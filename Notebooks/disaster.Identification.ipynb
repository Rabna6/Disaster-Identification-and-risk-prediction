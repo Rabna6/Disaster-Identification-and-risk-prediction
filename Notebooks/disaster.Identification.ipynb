{
  "nbformat": 4,
  "nbformat_minor": 0,
  "metadata": {
    "accelerator": "GPU",
    "colab": {
      "name": "disaster_identification_using_tweeter_colab.ipynb",
      "provenance": [],
      "collapsed_sections": []
    },
    "kernelspec": {
      "display_name": "Python 3",
      "language": "python",
      "name": "python3"
    },
    "language_info": {
      "codemirror_mode": {
        "name": "ipython",
        "version": 3
      },
      "file_extension": ".py",
      "mimetype": "text/x-python",
      "name": "python",
      "nbconvert_exporter": "python",
      "pygments_lexer": "ipython3",
      "version": "3.6.7"
    }
  },
  "cells": [
    {
      "cell_type": "markdown",
      "metadata": {
        "id": "OmgwuQUFyyBe"
      },
      "source": [
        "# Identifying and Categorizing the Disaster Related Tweets\n",
        "Semantic, temporal and spatial context , using natural language processing ,Deep Learning and spatial analysis\n",
        "\n",
        "\n",
        "## 1. Import Required Packages"
      ]
    },
    {
      "cell_type": "code",
      "metadata": {
        "id": "Dx1sSsm_zRnl"
      },
      "source": [
        "import os\n",
        "import numpy as np\n",
        "import pandas as pd\n",
        "import spacy\n",
        "import matplotlib.pyplot as plt\n",
        "import tensorflow as tf"
      ],
      "execution_count": 1,
      "outputs": []
    },
    {
      "cell_type": "code",
      "metadata": {
        "id": "WdD9XAs2yyBg"
      },
      "source": [
        "%%capture\n",
        "%matplotlib inline\n",
        "from sklearn.base import TransformerMixin ,BaseEstimator\n",
        "from sklearn.pipeline import Pipeline\n",
        "from sklearn.preprocessing import LabelEncoder\n",
        "from sklearn.model_selection import train_test_split\n",
        "from tensorflow.keras.utils import to_categorical\n",
        "from tensorflow.keras.models import Sequential ,model_from_json\n",
        "from tensorflow.keras.layers import Embedding,Dense,Dropout ,GlobalMaxPool1D\n",
        "from IPython.display import clear_output\n",
        "from google.colab import files\n",
        "from tensorflow.keras.wrappers.scikit_learn import KerasClassifier\n",
        "from sklearn.model_selection import RandomizedSearchCV"
      ],
      "execution_count": 2,
      "outputs": []
    },
    {
      "cell_type": "code",
      "metadata": {
        "id": "Nudx66pazEmy",
        "colab": {
          "resources": {
            "http://localhost:8080/nbextensions/google.colab/files.js": {
              "data": "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",
              "ok": true,
              "headers": [
                [
                  "content-type",
                  "application/javascript"
                ]
              ],
              "status": 200,
              "status_text": ""
            }
          },
          "base_uri": "https://localhost:8080/",
          "height": 73
        },
        "outputId": "732f0fb4-7293-4765-8495-0874a6864aff"
      },
      "source": [
        "if not os.path.isfile('combined.csv'):\n",
        "   dataset=files.upload()"
      ],
      "execution_count": 3,
      "outputs": [
        {
          "output_type": "display_data",
          "data": {
            "text/html": [
              "\n",
              "     <input type=\"file\" id=\"files-6bd435a7-e1c4-4896-b6cc-79bf56b4dab6\" name=\"files[]\" multiple disabled\n",
              "        style=\"border:none\" />\n",
              "     <output id=\"result-6bd435a7-e1c4-4896-b6cc-79bf56b4dab6\">\n",
              "      Upload widget is only available when the cell has been executed in the\n",
              "      current browser session. Please rerun this cell to enable.\n",
              "      </output>\n",
              "      <script src=\"/nbextensions/google.colab/files.js\"></script> "
            ],
            "text/plain": [
              "<IPython.core.display.HTML object>"
            ]
          },
          "metadata": {
            "tags": []
          }
        },
        {
          "output_type": "stream",
          "text": [
            "Saving combined.csv to combined.csv\n"
          ],
          "name": "stdout"
        }
      ]
    },
    {
      "cell_type": "markdown",
      "metadata": {
        "id": "CeelkjKwyyBj"
      },
      "source": [
        "## 2. Data Loading\n",
        "\n"
      ]
    },
    {
      "cell_type": "code",
      "metadata": {
        "id": "Z3etvRU5yyBk"
      },
      "source": [
        "\n",
        "class DatasetExtractor(BaseEstimator,TransformerMixin):\n",
        "    \"\"\"Extractor class that loads multiple Tweeter files in csv format.\"\"\"\n",
        "    \n",
        "    COMBINDED_DATASET='combined.csv'\n",
        "    \n",
        "    def transform(self,X,y=None):\n",
        "        return self.hot_load()\n",
        "    \n",
        "    def hot_load(self):\n",
        "        \"\"\"Loads the pre-combined file if exists otherwise load all the files\"\"\"\n",
        "        combined_file_path='combined.csv'\n",
        "        if os.path.isfile(combined_file_path):\n",
        "            print('File Exists.Reloaded.')\n",
        "            return pd.read_csv(combined_file_path, index_col=0)\n",
        "        print('Loading Files..')\n",
        "        combined_dataset=load_data()\n",
        "        combined_dataset.to_csv(combined_file_path)\n",
        "        return combined_dataset\n",
        "    \n",
        "    def load_data(self):\n",
        "        \"\"\"Loads multiple disaster related tweet file and returns a Single Pandas data frame\"\"\"    \n",
        "        combined_dataset=pd.DataFrame()\n",
        "        for file_name in os.listdir(path=DATA_DIRECTORY):\n",
        "            category=extract_category_name(file_name)\n",
        "            df=pd.read_csv(f'{file_name}')\n",
        "            df['category']= category    \n",
        "            combined_dataset=combined_dataset.append(df,ignore_index = True)\n",
        "        return  combined_dataset  \n",
        "    \n",
        "    def extract_category_name(self,file_name):\n",
        "        \"\"\"Helper method that extracts the Disaster Category from the file name\"\"\"\n",
        "        category=file_name.split('.')[0]\n",
        "        if '_' in category:\n",
        "            category=category.split('_')[0]\n",
        "        return category "
      ],
      "execution_count": 4,
      "outputs": []
    },
    {
      "cell_type": "markdown",
      "metadata": {
        "id": "rDVupu6qyyBm"
      },
      "source": [
        "## 3. Data Cleaning"
      ]
    },
    {
      "cell_type": "code",
      "metadata": {
        "id": "jwhMKFksyyBn"
      },
      "source": [
        "class DatasetCleaner(BaseEstimator,TransformerMixin):\n",
        "    \"\"\"Removes Redundent features and rows with missing values\"\"\"\n",
        "    def transform(self,X,y=None):\n",
        "        columns=X.columns.tolist()\n",
        "        X.columns=[column.strip() for column in columns]\n",
        "        X=X.drop('tweet id',axis=1)\n",
        "        X=X.dropna()\n",
        "        X['tweet']=X['tweet'].str.replace('@', '')\n",
        "        X['tweet']=X['tweet'].str.replace('#', '')\n",
        "        X['tweet']=X['tweet'].str.replace('http\\S+', '',regex=True)\n",
        "        X['tweet']=X['tweet'].str.strip()\n",
        "        X['tweet']=X['tweet'].str.lower()        \n",
        "        return X"
      ],
      "execution_count": 5,
      "outputs": []
    },
    {
      "cell_type": "code",
      "metadata": {
        "id": "R4BqQgxsyyBp"
      },
      "source": [
        "class DistributionValidSampler(BaseEstimator,TransformerMixin):\n",
        "    \"\"\"Samples the (related and random ) tweets with equal proportion\"\"\"\n",
        "    def __init__(self,unrelated_size=None ,ignore_unrelated_proportion=True):\n",
        "        self._unrelated_size=unrelated_size\n",
        "        self._ignore_unrelated_proportion=ignore_unrelated_proportion\n",
        "\n",
        "        \n",
        "    def transform(self,X,y=None):\n",
        "        #Shuffle tweets\n",
        "        X_=X.sample(frac=1).reset_index(drop=True)\n",
        "        \n",
        "        X_=self._label_categories(X_)  \n",
        "        related,unrelated =self._equal_split(X_)\n",
        "        X_=self._merge(related,unrelated)\n",
        "        X_=X_.drop('category',axis=1)       \n",
        "        return X_\n",
        "    \n",
        "    def _label_categories(self,X):\n",
        "        \"\"\"Assings the category name to on-topic tweets and unrelated to off-topic tweets in \n",
        "         each category\n",
        "        \"\"\"\n",
        "        \n",
        "        if self._ignore_unrelated_proportion:\n",
        "            X['label']=X.apply(lambda row: row['category'] if 'on-topic' in row['label'] else 'unrelated',axis=1 ) \n",
        "        else:\n",
        "            X['label']=X.apply(lambda row: row['category'] if 'on-topic' in row['label'] else 'unrelated_'+row['category'],axis=1 )  \n",
        "        return X\n",
        "    \n",
        "    def _equal_split(self,X):\n",
        "        \"\"\"Splits the dataseta into related and unrelated tweets.\n",
        "          This ensures that the number of unrelated tweets are not too high and \n",
        "          is in reasonable range.\n",
        "        \"\"\"\n",
        "        related=X[X['label'].str.contains('unrelated')==False]\n",
        "        unrelated=X[X['label'].str.contains('unrelated')]\n",
        "        ave_tweets=self._average_tweet_per_category(X)\n",
        "        unrelated=self._slice(unrelated,size=self._unrelated_size ,ave_size=ave_tweets)\n",
        "        return related,unrelated\n",
        "    \n",
        "    def _merge(self,X1,X2):\n",
        "        \"\"\"Merges the dataframes toghether\"\"\"\n",
        "        X=pd.DataFrame()\n",
        "        X=X.append(X1)\n",
        "        X=X.append(X2)\n",
        "        return X\n",
        "    \n",
        "    def _slice(self,X, size ,ave_size):\n",
        "        \"\"\"Extracts a subset of rows from a dataframe\"\"\"\n",
        "        if size is None:\n",
        "            size =ave_size\n",
        "        if size < X.shape[0]:\n",
        "            return X[:size]\n",
        "        return X    \n",
        "    \n",
        "    def _average_tweet_per_category(self,X):\n",
        "        \"\"\"Calculate the average number of tweets across all tweet categories\"\"\"\n",
        "        category_values=pd.DataFrame(X['label'].value_counts())\n",
        "        category_values=category_values.drop('unrelated',axis=0)\n",
        "        return int(category_values['label'].mean())\n",
        "        "
      ],
      "execution_count": 6,
      "outputs": []
    },
    {
      "cell_type": "markdown",
      "metadata": {
        "id": "MOeSsPzbyyBr"
      },
      "source": [
        "### 4. Data Transformation"
      ]
    },
    {
      "cell_type": "code",
      "metadata": {
        "id": "xzsGvjr4yyBs"
      },
      "source": [
        "class TextTokenizer(BaseEstimator,TransformerMixin):\n",
        "    \n",
        "    def __init__(self,pad_sequences,num_words=10000,max_length=100,max_pad_length=100 ):\n",
        "        self._num_words=num_words\n",
        "        self.max_length=max_length\n",
        "        self._tokenizer=None\n",
        "        self._pad_sequences=pad_sequences\n",
        "        self._max_pad_length=max_pad_length\n",
        "        self.vocab_size=None\n",
        "        self.tokenizer=None\n",
        "        \n",
        "    def transform(self,X,y=None):\n",
        "        self.tokenizer,self.vocab_size=self._get_tokenizer(X['tweet'])\n",
        "        X['tweet_encoded']=self.tokenizer.texts_to_sequences(X['tweet'])\n",
        "        X['tweet_encoded']= X['tweet_encoded'].apply(lambda x: self._pad_sequences([x],maxlen=self._max_pad_length ,padding='post')[0])\n",
        "        \n",
        "        return X\n",
        "    def _get_tokenizer(self,X):\n",
        "        tokenizer=tf.keras.preprocessing.text.Tokenizer(num_words=self._num_words)\n",
        "        tokenizer.fit_on_texts(X)\n",
        "        vocab_size=len(tokenizer.word_index)+1\n",
        "        return tokenizer,vocab_size"
      ],
      "execution_count": 7,
      "outputs": []
    },
    {
      "cell_type": "code",
      "metadata": {
        "id": "HyOi2VZryyBu"
      },
      "source": [
        "class LabelOneHotEncoder(BaseEstimator,TransformerMixin):\n",
        "    def __init__(self):\n",
        "        self.label_encoder=None\n",
        "        self.one_hot_encoder=None\n",
        "        \n",
        "    def transform(self,X,y=None):\n",
        "        self.label_encoder=LabelEncoder().fit(X['label'])\n",
        "        self.one_hot_encoder=to_categorical\n",
        "        num_classes=len(set(X['label']))\n",
        "        X['label_encoded']= self.label_encoder.transform(X['label'].values)\n",
        "        X['label_one_hot']= X['label_encoded'].apply(lambda x: self.one_hot_encoder([x],num_classes=num_classes)[0])   \n",
        "        \n",
        "        return X\n",
        "      "
      ],
      "execution_count": 8,
      "outputs": []
    },
    {
      "cell_type": "code",
      "metadata": {
        "id": "6QygVpjcyyBx"
      },
      "source": [
        "class PassThroughTransformer(BaseEstimator,TransformerMixin):\n",
        "    \"\"\"Pass Through Trasformer to by pass the sklean pipleline limitation \"\"\"\n",
        "    def transform(self,X,y=None):\n",
        "        return X\n",
        "    def fit(self,X,y=None):\n",
        "        return X"
      ],
      "execution_count": 9,
      "outputs": []
    },
    {
      "cell_type": "code",
      "metadata": {
        "colab": {
          "base_uri": "https://localhost:8080/",
          "height": 212
        },
        "id": "S1mAD2ptyyB0",
        "scrolled": true,
        "outputId": "5da68797-6ae9-40ff-84c9-603fa93b4c33"
      },
      "source": [
        "pad_sequence=tf.keras.preprocessing.sequence.pad_sequences\n",
        "\n",
        "\n",
        "pipeline =Pipeline(steps=[\n",
        "    ('extractor',DatasetExtractor()),\n",
        "    ('cleaner',DatasetCleaner()),\n",
        "    ('distribution-validator',DistributionValidSampler(unrelated_size=None ,ignore_unrelated_proportion=True)),\n",
        "    ('tokenizer',TextTokenizer(pad_sequence)),\n",
        "    ('one-hot-encoder',LabelOneHotEncoder()),\n",
        "    ('pass-through',PassThroughTransformer()),\n",
        "    \n",
        "])\n",
        "cleaned=pipeline.transform(None)\n",
        "cleaned.head()"
      ],
      "execution_count": 10,
      "outputs": [
        {
          "output_type": "stream",
          "text": [
            "File Exists.Reloaded.\n"
          ],
          "name": "stdout"
        },
        {
          "output_type": "execute_result",
          "data": {
            "text/html": [
              "<div>\n",
              "<style scoped>\n",
              "    .dataframe tbody tr th:only-of-type {\n",
              "        vertical-align: middle;\n",
              "    }\n",
              "\n",
              "    .dataframe tbody tr th {\n",
              "        vertical-align: top;\n",
              "    }\n",
              "\n",
              "    .dataframe thead th {\n",
              "        text-align: right;\n",
              "    }\n",
              "</style>\n",
              "<table border=\"1\" class=\"dataframe\">\n",
              "  <thead>\n",
              "    <tr style=\"text-align: right;\">\n",
              "      <th></th>\n",
              "      <th>tweet</th>\n",
              "      <th>label</th>\n",
              "      <th>tweet_encoded</th>\n",
              "      <th>label_encoded</th>\n",
              "      <th>label_one_hot</th>\n",
              "    </tr>\n",
              "  </thead>\n",
              "  <tbody>\n",
              "    <tr>\n",
              "      <th>1</th>\n",
              "      <td>rt anjurestaurant: please spread the word. all...</td>\n",
              "      <td>floods</td>\n",
              "      <td>[2, 6039, 70, 830, 1, 616, 27, 9, 821, 7, 234,...</td>\n",
              "      <td>3</td>\n",
              "      <td>[0.0, 0.0, 0.0, 1.0, 0.0, 0.0, 0.0]</td>\n",
              "    </tr>\n",
              "    <tr>\n",
              "      <th>3</th>\n",
              "      <td>baby stuffed in bag, hoisted from flood: austr...</td>\n",
              "      <td>floods</td>\n",
              "      <td>[256, 349, 3, 310, 351, 22, 9, 251, 221, 259, ...</td>\n",
              "      <td>3</td>\n",
              "      <td>[0.0, 0.0, 0.0, 1.0, 0.0, 0.0, 0.0]</td>\n",
              "    </tr>\n",
              "    <tr>\n",
              "      <th>4</th>\n",
              "      <td>our thoughts and prayers are with all those af...</td>\n",
              "      <td>tornado</td>\n",
              "      <td>[59, 87, 7, 51, 21, 25, 27, 69, 65, 28, 1, 539...</td>\n",
              "      <td>5</td>\n",
              "      <td>[0.0, 0.0, 0.0, 0.0, 0.0, 1.0, 0.0]</td>\n",
              "    </tr>\n",
              "    <tr>\n",
              "      <th>5</th>\n",
              "      <td>good time to run the country like a business m...</td>\n",
              "      <td>hurricane</td>\n",
              "      <td>[153, 124, 4, 477, 1, 428, 71, 6, 842, 544, 40...</td>\n",
              "      <td>4</td>\n",
              "      <td>[0.0, 0.0, 0.0, 0.0, 1.0, 0.0, 0.0]</td>\n",
              "    </tr>\n",
              "    <tr>\n",
              "      <th>6</th>\n",
              "      <td>stuck in hurricane sandy!! flight back from ny...</td>\n",
              "      <td>hurricane</td>\n",
              "      <td>[1149, 3, 12, 23, 1637, 213, 22, 461, 3912, 0,...</td>\n",
              "      <td>4</td>\n",
              "      <td>[0.0, 0.0, 0.0, 0.0, 1.0, 0.0, 0.0]</td>\n",
              "    </tr>\n",
              "  </tbody>\n",
              "</table>\n",
              "</div>"
            ],
            "text/plain": [
              "                                               tweet  ...                        label_one_hot\n",
              "1  rt anjurestaurant: please spread the word. all...  ...  [0.0, 0.0, 0.0, 1.0, 0.0, 0.0, 0.0]\n",
              "3  baby stuffed in bag, hoisted from flood: austr...  ...  [0.0, 0.0, 0.0, 1.0, 0.0, 0.0, 0.0]\n",
              "4  our thoughts and prayers are with all those af...  ...  [0.0, 0.0, 0.0, 0.0, 0.0, 1.0, 0.0]\n",
              "5  good time to run the country like a business m...  ...  [0.0, 0.0, 0.0, 0.0, 1.0, 0.0, 0.0]\n",
              "6  stuck in hurricane sandy!! flight back from ny...  ...  [0.0, 0.0, 0.0, 0.0, 1.0, 0.0, 0.0]\n",
              "\n",
              "[5 rows x 5 columns]"
            ]
          },
          "metadata": {
            "tags": []
          },
          "execution_count": 10
        }
      ]
    },
    {
      "cell_type": "markdown",
      "metadata": {
        "id": "av3JRhv_yyB4"
      },
      "source": [
        "## 5. Train Validation set"
      ]
    },
    {
      "cell_type": "code",
      "metadata": {
        "id": "qN8o5kIayyB5"
      },
      "source": [
        "X_train,X_test,y_train,y_test =train_test_split(cleaned['tweet_encoded'],cleaned['label_one_hot'],test_size=0.3,stratify=cleaned['label_encoded'])\n",
        "X_train=np.array(X_train.values.tolist())\n",
        "X_test=np.array(X_test.values.tolist())\n",
        "y_train=np.array(y_train.values.tolist())\n",
        "y_test=np.array(y_test.values.tolist())"
      ],
      "execution_count": 11,
      "outputs": []
    },
    {
      "cell_type": "markdown",
      "metadata": {
        "id": "V_IrvqFGyyB7"
      },
      "source": [
        "## 6. Modeling "
      ]
    },
    {
      "cell_type": "code",
      "metadata": {
        "id": "0-k5VW8byyB8"
      },
      "source": [
        "class PlotLosses(tf.keras.callbacks.Callback):\n",
        "    def on_train_begin(self, logs={}):\n",
        "        self.i = 0\n",
        "        self.x = []\n",
        "        self.losses = []\n",
        "        self.val_losses = []\n",
        "        \n",
        "        self.fig = plt.figure()\n",
        "        \n",
        "        self.logs = []\n",
        "\n",
        "    def on_epoch_end(self, epoch, logs={}):\n",
        "        \n",
        "        self.logs.append(logs)\n",
        "        self.x.append(self.i)\n",
        "        self.losses.append(logs.get('loss'))\n",
        "        self.val_losses.append(logs.get('val_loss'))\n",
        "        self.i += 1\n",
        "        \n",
        "        clear_output(wait=True)\n",
        "        plt.plot(self.x, self.losses, label=\"loss\")\n",
        "        plt.plot(self.x, self.val_losses, label=\"val_loss\")\n",
        "        plt.legend()\n",
        "        plt.show();\n",
        "plot_losses = PlotLosses() \n",
        "\n",
        "def save_model(model,save_name):\n",
        "    with open(save_name,'w+') as f:\n",
        "        f.write(model.to_json())\n",
        "    model.save_weights(save_name+'.h5') "
      ],
      "execution_count": 12,
      "outputs": []
    },
    {
      "cell_type": "code",
      "metadata": {
        "colab": {
          "base_uri": "https://localhost:8080/"
        },
        "id": "Jcehm9otyyB_",
        "outputId": "b3da383b-3444-43c1-b79f-705526b68cec"
      },
      "source": [
        "tokenizer=pipeline.named_steps['tokenizer']\n",
        "max_length=tokenizer.max_length\n",
        "vocab_size=tokenizer.vocab_size\n",
        "embeding_dim=50\n",
        "num_classes=y_train[0].shape[0]\n",
        "model=Sequential()\n",
        "model.add(Embedding(input_dim=vocab_size,output_dim=embeding_dim,input_length=max_length))\n",
        "model.add(GlobalMaxPool1D())\n",
        "model.add(Dropout(0.2))\n",
        "model.add(Dense(10,activation='relu'))\n",
        "model.add(Dropout(0.2))\n",
        "model.add(Dense(num_classes,activation='softmax'))\n",
        "model.compile(optimizer='adam',loss='categorical_crossentropy',metrics=['accuracy'] )\n",
        "model.summary()"
      ],
      "execution_count": 13,
      "outputs": [
        {
          "output_type": "stream",
          "text": [
            "Model: \"sequential\"\n",
            "_________________________________________________________________\n",
            "Layer (type)                 Output Shape              Param #   \n",
            "=================================================================\n",
            "embedding (Embedding)        (None, 100, 50)           2291700   \n",
            "_________________________________________________________________\n",
            "global_max_pooling1d (Global (None, 50)                0         \n",
            "_________________________________________________________________\n",
            "dropout (Dropout)            (None, 50)                0         \n",
            "_________________________________________________________________\n",
            "dense (Dense)                (None, 10)                510       \n",
            "_________________________________________________________________\n",
            "dropout_1 (Dropout)          (None, 10)                0         \n",
            "_________________________________________________________________\n",
            "dense_1 (Dense)              (None, 7)                 77        \n",
            "=================================================================\n",
            "Total params: 2,292,287\n",
            "Trainable params: 2,292,287\n",
            "Non-trainable params: 0\n",
            "_________________________________________________________________\n"
          ],
          "name": "stdout"
        }
      ]
    },
    {
      "cell_type": "markdown",
      "metadata": {
        "id": "QPdk4nYtyyCC"
      },
      "source": [
        "## 7. Training "
      ]
    },
    {
      "cell_type": "code",
      "metadata": {
        "colab": {
          "base_uri": "https://localhost:8080/",
          "height": 265
        },
        "id": "VCSQAjDayyCD",
        "scrolled": true,
        "outputId": "2f4618f9-553f-4c40-c65c-e477ba835f25"
      },
      "source": [
        "model.fit(X_train,y_train,epochs=4,batch_size=10,verbose=0,validation_split=0.2,callbacks=[plot_losses])\n",
        "save_model(model,'model')"
      ],
      "execution_count": 14,
      "outputs": [
        {
          "output_type": "display_data",
          "data": {
            "image/png": "[encoded data removed]",
            "text/plain": [
              "<Figure size 432x288 with 1 Axes>"
            ]
          },
          "metadata": {
            "tags": [],
            "needs_background": "light"
          }
        }
      ]
    },
    {
      "cell_type": "markdown",
      "metadata": {
        "id": "cYyIeO4ayyCI"
      },
      "source": [
        "## 8. Evaluation"
      ]
    },
    {
      "cell_type": "code",
      "metadata": {
        "colab": {
          "base_uri": "https://localhost:8080/"
        },
        "id": "gaST3joGyyCK",
        "outputId": "24aaab0d-db9f-4eed-dcbd-95f421b67203"
      },
      "source": [
        "# load json and create model\n",
        "json_file = open('model', 'r')\n",
        "loaded_model_json = json_file.read()\n",
        "json_file.close()\n",
        "loaded_model = model_from_json(loaded_model_json)\n",
        "# load weights into new model\n",
        "loaded_model.load_weights(\"model.h5\")\n",
        "print(\"Loaded model from disk\")\n",
        " \n",
        "# evaluate loaded model on test data\n",
        "loaded_model.compile(loss='categorical_crossentropy', optimizer='adam', metrics=['accuracy'])\n",
        "score = loaded_model.evaluate(X_test, y_test, verbose=0)\n",
        "print(\"%s: %.2f%%\" % (loaded_model.metrics_names[1], score[1]*100))"
      ],
      "execution_count": 15,
      "outputs": [
        {
          "output_type": "stream",
          "text": [
            "Loaded model from disk\n",
            "accuracy: 92.09%\n"
          ],
          "name": "stdout"
        }
      ]
    },
    {
      "cell_type": "markdown",
      "metadata": {
        "id": "C43lr-20390X"
      },
      "source": [
        "## 9. Prediction"
      ]
    },
    {
      "cell_type": "code",
      "metadata": {
        "colab": {
          "base_uri": "https://localhost:8080/"
        },
        "id": "H6mVmtvs4Vy2",
        "outputId": "c459be94-7b9f-44eb-fecc-5855bf6cd647"
      },
      "source": [
        "vocab_size=pipeline.named_steps['tokenizer'].vocab_size\n",
        "max_length=pipeline.named_steps['tokenizer'].max_length\n",
        "label_encoder=pipeline.named_steps['one-hot-encoder'].label_encoder\n",
        "tokenizer=pipeline.named_steps['tokenizer'].tokenizer\n",
        "max_length=pipeline.named_steps['tokenizer'].max_length\n",
        "\n",
        "\n",
        "x=['large explosion at a texas fertilizer plant...multiple injuries reported...local hospital told to expect up to 100 patients: via ap']\n",
        "\n",
        "x_seq=tokenizer.texts_to_sequences(x)[0]\n",
        "x_pad=tf.keras.preprocessing.sequence.pad_sequences([x_seq],maxlen=max_length ,padding='post')[0]\n",
        "x_pad=np.array(x_pad)\n",
        "x_pad=x_pad.reshape(1,100)\n",
        "x_pad.shape\n",
        "predict=loaded_model.predict_classes(x_pad)\n",
        "score=max(loaded_model.predict(x_pad)[0])\n",
        "print(predict)\n",
        "print(label_encoder.inverse_transform(predict))\n",
        "print('score',score)"
      ],
      "execution_count": 16,
      "outputs": [
        {
          "output_type": "stream",
          "text": [
            "[2]\n",
            "['explosion']\n",
            "score 0.9999862\n"
          ],
          "name": "stdout"
        },
        {
          "output_type": "stream",
          "text": [
            "/usr/local/lib/python3.7/dist-packages/tensorflow/python/keras/engine/sequential.py:455: UserWarning: `model.predict_classes()` is deprecated and will be removed after 2021-01-01. Please use instead:* `np.argmax(model.predict(x), axis=-1)`,   if your model does multi-class classification   (e.g. if it uses a `softmax` last-layer activation).* `(model.predict(x) > 0.5).astype(\"int32\")`,   if your model does binary classification   (e.g. if it uses a `sigmoid` last-layer activation).\n",
            "  warnings.warn('`model.predict_classes()` is deprecated and '\n"
          ],
          "name": "stderr"
        }
      ]
    },
    {
      "cell_type": "markdown",
      "metadata": {
        "id": "gEAJgDt7g49Z"
      },
      "source": [
        "## 10. Hyperparameters Optimization"
      ]
    },
    {
      "cell_type": "code",
      "metadata": {
        "id": "lzIEbJfJg6TG"
      },
      "source": [
        "def create_model(dropout, dense_size, vocab_size, embedding_dim, maxlen):\n",
        "    model=Sequential()\n",
        "    model.add(Embedding(input_dim=vocab_size,output_dim=embeding_dim,input_length=max_length))\n",
        "    model.add(GlobalMaxPool1D())\n",
        "    model.add(Dropout(dropout))\n",
        "    model.add(Dense(dense_size,activation='relu'))\n",
        "    model.add(Dropout(dropout))\n",
        "    model.add(Dense(num_classes,activation='softmax'))\n",
        "    model.compile(optimizer='adam',loss='categorical_crossentropy',metrics=['accuracy'])\n",
        "    return model"
      ],
      "execution_count": 17,
      "outputs": []
    },
    {
      "cell_type": "code",
      "metadata": {
        "colab": {
          "base_uri": "https://localhost:8080/"
        },
        "id": "fmj52DYihwvT",
        "outputId": "0db57711-54f2-42f6-c5d3-ef91175554ea"
      },
      "source": [
        "  \n",
        "# Main settings\n",
        "epochs = 5\n",
        "embedding_dim = 50\n",
        "maxlen = 100\n",
        "vocab_size=10000\n",
        "output_file = 'output.txt'\n",
        "#  dropout=[.1, 0.2, 0.3,0.4,0.5],\n",
        "dense_size=[10, 50,100],\n",
        "\n",
        "# Parameter grid for grid search\n",
        "param_grid = dict(dropout=[0.1],\n",
        "                  dense_size=[10, 50,100],\n",
        "                  vocab_size=[vocab_size],\n",
        "                  embedding_dim=[embedding_dim],\n",
        "                  maxlen=[maxlen])\n",
        "model = KerasClassifier(build_fn=create_model,\n",
        "                        epochs=epochs, batch_size=10,\n",
        "                        verbose=False)\n",
        "grid = RandomizedSearchCV(estimator=model, param_distributions=param_grid,\n",
        "                          cv=4, verbose=1, n_iter=5 ,n_jobs=2)\n",
        "grid_result = grid.fit(X_train, y_train)\n",
        "\n",
        "# Evaluate testing set\n",
        "test_accuracy = grid.score(X_test, y_test)\n",
        "\n",
        "# Save and evaluate results\n",
        "with open(output_file, 'a') as f:\n",
        "    s = ('Best Accuracy : '\n",
        "         '{:.4f}\\n{}\\nTest Accuracy : {:.4f}\\n\\n')\n",
        "    output_string = s.format(\n",
        "        grid_result.best_score_,\n",
        "        grid_result.best_params_,\n",
        "        test_accuracy)\n",
        "    print(output_string)\n",
        "    f.write(output_string)  \n",
        "print('Done')    "
      ],
      "execution_count": 18,
      "outputs": [
        {
          "output_type": "stream",
          "text": [
            "Fitting 4 folds for each of 3 candidates, totalling 12 fits\n"
          ],
          "name": "stdout"
        },
        {
          "output_type": "stream",
          "text": [
            "/usr/local/lib/python3.7/dist-packages/sklearn/model_selection/_search.py:281: UserWarning: The total space of parameters 3 is smaller than n_iter=5. Running 3 iterations. For exhaustive searches, use GridSearchCV.\n",
            "  % (grid_size, self.n_iter, grid_size), UserWarning)\n",
            "[Parallel(n_jobs=2)]: Using backend LokyBackend with 2 concurrent workers.\n",
            "[Parallel(n_jobs=2)]: Done  12 out of  12 | elapsed: 12.1min finished\n"
          ],
          "name": "stderr"
        },
        {
          "output_type": "stream",
          "text": [
            "Best Accuracy : 0.9234\n",
            "{'vocab_size': 10000, 'maxlen': 100, 'embedding_dim': 50, 'dropout': 0.1, 'dense_size': 10}\n",
            "Test Accuracy : 0.9243\n",
            "\n",
            "\n",
            "Done\n"
          ],
          "name": "stdout"
        }
      ]
    }
  ]
}