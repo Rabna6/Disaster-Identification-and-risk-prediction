{
  "nbformat": 4,
  "nbformat_minor": 0,
  "metadata": {
    "kernelspec": {
      "display_name": "Python 3",
      "language": "python",
      "name": "python3"
    },
    "language_info": {
      "codemirror_mode": {
        "name": "ipython",
        "version": 3
      },
      "file_extension": ".py",
      "mimetype": "text/x-python",
      "name": "python",
      "nbconvert_exporter": "python",
      "pygments_lexer": "ipython3",
      "version": "3.6.7"
    },
    "colab": {
      "name": "crisis_identification_explanation.ipynb",
      "provenance": []
    }
  },
  "cells": [
    {
      "cell_type": "markdown",
      "metadata": {
        "id": "Mxdtbt_CRh7U"
      },
      "source": [
        "## Data Preprocessing \n",
        "The objective of this step is to clean noise those are less relevant to find the sentiment of tweets such as punctuation, special characters, numbers, and terms which don’t carry much weightage in context to the text.\n",
        "Lets first import the required packages."
      ]
    },
    {
      "cell_type": "code",
      "metadata": {
        "id": "5v1ohksSRh7V"
      },
      "source": [
        "%%capture\n",
        "%matplotlib inline\n",
        "\n",
        "import os\n",
        "import numpy as np\n",
        "import pandas as pd\n",
        "import matplotlib.pyplot as plt\n",
        "import seaborn as sns\n",
        "import tensorflow as tf\n",
        "from sklearn.base import TransformerMixin ,BaseEstimator\n",
        "from sklearn.pipeline import Pipeline\n",
        "from sklearn.preprocessing import LabelEncoder\n",
        "from sklearn.model_selection import train_test_split\n",
        "from tensorflow.keras.utils import to_categorical\n",
        "from tensorflow.keras.preprocessing.sequence import pad_sequences\n",
        "from tensorflow.keras.models import Sequential ,model_from_json\n",
        "from tensorflow.keras.layers import Embedding,Dense,Dropout ,GlobalMaxPool1D\n",
        "\n",
        "from IPython.display import clear_output\n",
        "from tensorflow.keras.wrappers.scikit_learn import KerasClassifier\n",
        "from sklearn.model_selection import RandomizedSearchCV"
      ],
      "execution_count": 27,
      "outputs": []
    },
    {
      "cell_type": "markdown",
      "metadata": {
        "id": "CJCClpfKRh7W"
      },
      "source": [
        "## Data Loading\n",
        "The data are stored in 11 csv formated files.We first load this data and then save it into a single combined file for further analysis.The name of the file is the same as the name of the crisis.The Tweets in each files has been labeled  as \"on-topic\" or \"off-topic\".\n",
        "First lets load the data and understand it.\n",
        "\n",
        "We will be using the Pipeline from Sklean library to streamline the preprocessing routine. As a result the the classes in the analysis should be compatible with the pipeline arcitecture."
      ]
    },
    {
      "cell_type": "code",
      "metadata": {
        "id": "hbBd_nf9Rh7X"
      },
      "source": [
        "COMBINDED_DATASET='combined.csv'\n",
        "DATA_DIRECTORY='./datasets'\n",
        "class DatasetExtractor(BaseEstimator,TransformerMixin):\n",
        "  #Extractor class that loads multiple Tweet files and creates a single unified file\n",
        "    \n",
        "    def transform(self,X,y=None):\n",
        "        return self.hot_load()\n",
        "    \n",
        "    def hot_load(self):\n",
        "    #Loads the pre-combined file if exists otherwise load all the files\n",
        "        combined_file_path=f'{DATA_DIRECTORY}/{COMBINDED_DATASET}'\n",
        "        if os.path.isfile(combined_file_path):\n",
        "            print('File Exists.Reloaded.')\n",
        "            return pd.read_csv(combined_file_path, index_col=0)\n",
        "        print('Loading Files..')\n",
        "        combined_dataset=self.load_data()\n",
        "        combined_dataset.to_csv(combined_file_path)\n",
        "        return combined_dataset\n",
        "    \n",
        "    def load_data(self):\n",
        "    #Loads multiple disaster related tweet file and returns a Single Pandas data frame  \n",
        "        combined_dataset=pd.DataFrame()\n",
        "        for file_name in os.listdir(path=DATA_DIRECTORY):\n",
        "            category=self.extract_category_name(file_name)\n",
        "            df=pd.read_csv(f'{DATA_DIRECTORY}/{file_name}')\n",
        "            df['category']= category    \n",
        "            combined_dataset=combined_dataset.append(df,ignore_index = True)\n",
        "        return  combined_dataset  \n",
        "    \n",
        "    def extract_category_name(self,file_name):\n",
        "    #Helper method that extracts the Disaster Category from the file name\n",
        "        category=file_name.split('.')[0]\n",
        "        if '_' in category:\n",
        "            category=category.split('_')[0]\n",
        "        return category "
      ],
      "execution_count": 28,
      "outputs": []
    },
    {
      "cell_type": "code",
      "metadata": {
        "colab": {
          "base_uri": "https://localhost:8080/",
          "height": 212
        },
        "id": "slVdo1PeRh7Z",
        "outputId": "034def6f-450c-42b2-9a15-190557de1b5f"
      },
      "source": [
        "dataset=DatasetExtractor().transform(None)\n",
        "dataset.head()"
      ],
      "execution_count": 29,
      "outputs": [
        {
          "output_type": "stream",
          "text": [
            "File Exists.Reloaded.\n"
          ],
          "name": "stdout"
        },
        {
          "output_type": "execute_result",
          "data": {
            "text/html": [
              "<div>\n",
              "<style scoped>\n",
              "    .dataframe tbody tr th:only-of-type {\n",
              "        vertical-align: middle;\n",
              "    }\n",
              "\n",
              "    .dataframe tbody tr th {\n",
              "        vertical-align: top;\n",
              "    }\n",
              "\n",
              "    .dataframe thead th {\n",
              "        text-align: right;\n",
              "    }\n",
              "</style>\n",
              "<table border=\"1\" class=\"dataframe\">\n",
              "  <thead>\n",
              "    <tr style=\"text-align: right;\">\n",
              "      <th></th>\n",
              "      <th>tweet id</th>\n",
              "      <th>tweet</th>\n",
              "      <th>label</th>\n",
              "      <th>category</th>\n",
              "    </tr>\n",
              "  </thead>\n",
              "  <tbody>\n",
              "    <tr>\n",
              "      <th>0</th>\n",
              "      <td>'348351442404376578'</td>\n",
              "      <td>@Jay1972Jay Nope. Mid 80's. It's off Metallica...</td>\n",
              "      <td>off-topic</td>\n",
              "      <td>floods</td>\n",
              "    </tr>\n",
              "    <tr>\n",
              "      <th>1</th>\n",
              "      <td>'348167215536803841'</td>\n",
              "      <td>Nothing like a :16 second downpour to give us ...</td>\n",
              "      <td>off-topic</td>\n",
              "      <td>floods</td>\n",
              "    </tr>\n",
              "    <tr>\n",
              "      <th>2</th>\n",
              "      <td>'348644655786778624'</td>\n",
              "      <td>@NelsonTagoona so glad that you missed the flo...</td>\n",
              "      <td>on-topic</td>\n",
              "      <td>floods</td>\n",
              "    </tr>\n",
              "    <tr>\n",
              "      <th>3</th>\n",
              "      <td>'350519668815036416'</td>\n",
              "      <td>Party hard , suns down , still warm , lovin li...</td>\n",
              "      <td>off-topic</td>\n",
              "      <td>floods</td>\n",
              "    </tr>\n",
              "    <tr>\n",
              "      <th>4</th>\n",
              "      <td>'351446519733432320'</td>\n",
              "      <td>@Exclusionzone if you compare yourself to wate...</td>\n",
              "      <td>off-topic</td>\n",
              "      <td>floods</td>\n",
              "    </tr>\n",
              "  </tbody>\n",
              "</table>\n",
              "</div>"
            ],
            "text/plain": [
              "               tweet id  ... category\n",
              "0  '348351442404376578'  ...   floods\n",
              "1  '348167215536803841'  ...   floods\n",
              "2  '348644655786778624'  ...   floods\n",
              "3  '350519668815036416'  ...   floods\n",
              "4  '351446519733432320'  ...   floods\n",
              "\n",
              "[5 rows x 4 columns]"
            ]
          },
          "metadata": {
            "tags": []
          },
          "execution_count": 29
        }
      ]
    },
    {
      "cell_type": "markdown",
      "metadata": {
        "id": "pLe0ZLwqRh7a"
      },
      "source": [
        " \n",
        "## Data Cleaning\n",
        "\n",
        "### Text cleaning\n",
        "Here we will use the regular expressions and replace functionality in Pandas to remove the unwanted noise in the data.\n",
        "\n",
        "### Re-Tweets:\n",
        "They add no real value to the data and can sometimes lead to overfitting \n",
        "\n",
        "### URL's\n",
        "They do not deliver any predictive power.In the worst case scenario they might lead to overfitting.\n",
        "\n",
        "### Symbols\n",
        "Hashtags, commas, points and and all kind of punctuation symbols are removed.\n",
        "\n",
        "### White Spaces\n",
        "We also get ride of any additional white spaces in the texts that might be created due to the previous steps.\n",
        "\n",
        "### Lower case\n",
        "All texts are transformed to lowercase.\n",
        "\n",
        "### Location Names\n",
        "The names of the location which disaster happened were repeated in so many tweets.We want to prevent the model from  associating these location names with the crisis and as a result we remove the most frequent ones from the Tweets.\n",
        "\n",
        " "
      ]
    },
    {
      "cell_type": "code",
      "metadata": {
        "id": "F6MpmD8yRh7b"
      },
      "source": [
        "STOP_WORDS=[\"Boston\", \"Oklahoma\",\"Texas\",\"Nepal\",\"California\",\"Calgary\",\"Chile\",\"Alberta\",\"Pakistan\" ,\"WestTX\",\"Canada\",\"yycflood\",\"USA\",\"'S\",]\n",
        "class DatasetCleaner(BaseEstimator,TransformerMixin):\n",
        "    \"\"\"Removes Redundent features and rows with missing values\"\"\"\n",
        "    def transform(self,X,y=None):\n",
        "        columns=X.columns.tolist()\n",
        "        X.columns=[column.strip() for column in columns]\n",
        "        X=X.drop('tweet id',axis=1)\n",
        "        X=X.dropna()\n",
        "        X['tweet']=X['tweet'].str.replace('@', '')\n",
        "        X['tweet']=X['tweet'].str.replace('#', '')\n",
        "        X['tweet']=X['tweet'].str.replace('.', '')\n",
        "        X['tweet']=X['tweet'].str.replace(',', '')\n",
        "        X['tweet']=X['tweet'].str.replace('http\\S+', '',regex=True)\n",
        "        X['tweet']=X['tweet'].str.replace('@\\w+', '',regex=True)\n",
        "        X['tweet']=X['tweet'].str.replace('\\s+', '',regex=True)\n",
        "        X['tweet']=X['tweet'].str.strip()\n",
        "        X['tweet']=X['tweet'].str.lower()\n",
        "        for word in STOP_WORDS:\n",
        "            word=word.lower()\n",
        "            X['tweet']=X['tweet'].str.replace(word, '') \n",
        "        return X"
      ],
      "execution_count": 30,
      "outputs": []
    },
    {
      "cell_type": "code",
      "metadata": {
        "colab": {
          "base_uri": "https://localhost:8080/",
          "height": 195
        },
        "id": "MKxDz3B0Rh7c",
        "outputId": "a91b7ed4-d478-4d7a-9b3a-6ae2c70f59cb"
      },
      "source": [
        "dataset_cleaned=DatasetCleaner().transform(dataset)\n",
        "dataset_cleaned.head()"
      ],
      "execution_count": 31,
      "outputs": [
        {
          "output_type": "execute_result",
          "data": {
            "text/html": [
              "<div>\n",
              "<style scoped>\n",
              "    .dataframe tbody tr th:only-of-type {\n",
              "        vertical-align: middle;\n",
              "    }\n",
              "\n",
              "    .dataframe tbody tr th {\n",
              "        vertical-align: top;\n",
              "    }\n",
              "\n",
              "    .dataframe thead th {\n",
              "        text-align: right;\n",
              "    }\n",
              "</style>\n",
              "<table border=\"1\" class=\"dataframe\">\n",
              "  <thead>\n",
              "    <tr style=\"text-align: right;\">\n",
              "      <th></th>\n",
              "      <th>tweet</th>\n",
              "      <th>label</th>\n",
              "      <th>category</th>\n",
              "    </tr>\n",
              "  </thead>\n",
              "  <tbody>\n",
              "    <tr>\n",
              "      <th>0</th>\n",
              "      <td>jay1972jaynopemid80itoffmetallica2ndalbumridet...</td>\n",
              "      <td>off-topic</td>\n",
              "      <td>floods</td>\n",
              "    </tr>\n",
              "    <tr>\n",
              "      <th>1</th>\n",
              "      <td>nothinglikea:16seconddownpourtogiveussomemuchn...</td>\n",
              "      <td>off-topic</td>\n",
              "      <td>floods</td>\n",
              "    </tr>\n",
              "    <tr>\n",
              "      <th>2</th>\n",
              "      <td>nelsontagoonasogladthatyoumissedthefloodsandsa...</td>\n",
              "      <td>on-topic</td>\n",
              "      <td>floods</td>\n",
              "    </tr>\n",
              "    <tr>\n",
              "      <th>3</th>\n",
              "      <td>partyhardsunsdownstillwarmlovinlifesmileharddo...</td>\n",
              "      <td>off-topic</td>\n",
              "      <td>floods</td>\n",
              "    </tr>\n",
              "    <tr>\n",
              "      <th>4</th>\n",
              "      <td>exclusionzoneifyoucompareyourselftowaterdoesth...</td>\n",
              "      <td>off-topic</td>\n",
              "      <td>floods</td>\n",
              "    </tr>\n",
              "  </tbody>\n",
              "</table>\n",
              "</div>"
            ],
            "text/plain": [
              "                                               tweet      label category\n",
              "0  jay1972jaynopemid80itoffmetallica2ndalbumridet...  off-topic   floods\n",
              "1  nothinglikea:16seconddownpourtogiveussomemuchn...  off-topic   floods\n",
              "2  nelsontagoonasogladthatyoumissedthefloodsandsa...   on-topic   floods\n",
              "3  partyhardsunsdownstillwarmlovinlifesmileharddo...  off-topic   floods\n",
              "4  exclusionzoneifyoucompareyourselftowaterdoesth...  off-topic   floods"
            ]
          },
          "metadata": {
            "tags": []
          },
          "execution_count": 31
        }
      ]
    },
    {
      "cell_type": "markdown",
      "metadata": {
        "id": "KJLRS2GuRh7d"
      },
      "source": [
        " ##  Re-Sampling\n",
        "\n",
        "Here we see how many tweets we have in each category.This would be total number of tweets.Each file has **on-topic** and **off-topic** tweets which is the way they have been labeled by human labelers."
      ]
    },
    {
      "cell_type": "code",
      "metadata": {
        "colab": {
          "base_uri": "https://localhost:8080/",
          "height": 225
        },
        "id": "597CbBYsRh7d",
        "outputId": "1a1874f4-9336-439c-9eb2-290634e08a80"
      },
      "source": [
        "Crisis=pd.DataFrame(dataset['category'].value_counts())\n",
        "Crisis.reset_index(inplace=True)\n",
        "Crisis.rename(columns={'index':'Crisis',\"category\":'Tweet Count'} ,inplace=True)\n",
        "Crisis"
      ],
      "execution_count": 32,
      "outputs": [
        {
          "output_type": "execute_result",
          "data": {
            "text/html": [
              "<div>\n",
              "<style scoped>\n",
              "    .dataframe tbody tr th:only-of-type {\n",
              "        vertical-align: middle;\n",
              "    }\n",
              "\n",
              "    .dataframe tbody tr th {\n",
              "        vertical-align: top;\n",
              "    }\n",
              "\n",
              "    .dataframe thead th {\n",
              "        text-align: right;\n",
              "    }\n",
              "</style>\n",
              "<table border=\"1\" class=\"dataframe\">\n",
              "  <thead>\n",
              "    <tr style=\"text-align: right;\">\n",
              "      <th></th>\n",
              "      <th>Crisis</th>\n",
              "      <th>Tweet Count</th>\n",
              "    </tr>\n",
              "  </thead>\n",
              "  <tbody>\n",
              "    <tr>\n",
              "      <th>0</th>\n",
              "      <td>floods</td>\n",
              "      <td>20064</td>\n",
              "    </tr>\n",
              "    <tr>\n",
              "      <th>1</th>\n",
              "      <td>bombing</td>\n",
              "      <td>10012</td>\n",
              "    </tr>\n",
              "    <tr>\n",
              "      <th>2</th>\n",
              "      <td>hurricane</td>\n",
              "      <td>10008</td>\n",
              "    </tr>\n",
              "    <tr>\n",
              "      <th>3</th>\n",
              "      <td>explosion</td>\n",
              "      <td>10006</td>\n",
              "    </tr>\n",
              "    <tr>\n",
              "      <th>4</th>\n",
              "      <td>tornado</td>\n",
              "      <td>9992</td>\n",
              "    </tr>\n",
              "    <tr>\n",
              "      <th>5</th>\n",
              "      <td>earthquake</td>\n",
              "      <td>9057</td>\n",
              "    </tr>\n",
              "  </tbody>\n",
              "</table>\n",
              "</div>"
            ],
            "text/plain": [
              "       Crisis  Tweet Count\n",
              "0      floods        20064\n",
              "1     bombing        10012\n",
              "2   hurricane        10008\n",
              "3   explosion        10006\n",
              "4     tornado         9992\n",
              "5  earthquake         9057"
            ]
          },
          "metadata": {
            "tags": []
          },
          "execution_count": 32
        }
      ]
    },
    {
      "cell_type": "code",
      "metadata": {
        "colab": {
          "base_uri": "https://localhost:8080/",
          "height": 459
        },
        "id": "cYQl2PtpRh7e",
        "outputId": "45eb0833-6d43-470d-8a78-43c4fe5b0311"
      },
      "source": [
        "f,ax =plt.subplots(figsize=(15,7))\n",
        "sns.barplot(x='Crisis',y='Tweet Count',data=Crisis ,palette=sns.light_palette((210, 90, 60),10, input=\"husl\" ,reverse=True),ax=ax)\n",
        "ax.set_xlabel(' ')"
      ],
      "execution_count": 33,
      "outputs": [
        {
          "output_type": "execute_result",
          "data": {
            "text/plain": [
              "Text(0.5, 0, ' ')"
            ]
          },
          "metadata": {
            "tags": []
          },
          "execution_count": 33
        },
        {
          "output_type": "display_data",
          "data": {
            "image/png": "[encoded data removed]",
            "text/plain": [
              "<Figure size 1080x504 with 1 Axes>"
            ]
          },
          "metadata": {
            "tags": [],
            "needs_background": "light"
          }
        }
      ]
    },
    {
      "cell_type": "markdown",
      "metadata": {
        "id": "2B695tG6Rh7e"
      },
      "source": [
        "### All Tweets ( On-Topic and off-Topic ) for each category \n",
        "\n",
        "Here lets see how many related (on-topic) Tweets we have in each category."
      ]
    },
    {
      "cell_type": "code",
      "metadata": {
        "colab": {
          "base_uri": "https://localhost:8080/",
          "height": 402
        },
        "id": "o50mDbkbRh7f",
        "outputId": "f1769e7a-48fb-425e-c83a-5f2b7e97172d"
      },
      "source": [
        "dataset['label_full']=dataset['label']+'_'+dataset['category']\n",
        "Crisis_topics=pd.DataFrame(dataset['label_full'].value_counts())\n",
        "Crisis_topics.drop('On-topic_earthquake',axis=0,inplace=True)\n",
        "Crisis_topics.reset_index(inplace=True)\n",
        "Crisis_topics.rename(columns={'index':'Crisis',\"label_full\":'Tweet Count'} ,inplace=True)\n",
        "\n",
        "Crisis_topics"
      ],
      "execution_count": 34,
      "outputs": [
        {
          "output_type": "execute_result",
          "data": {
            "text/html": [
              "<div>\n",
              "<style scoped>\n",
              "    .dataframe tbody tr th:only-of-type {\n",
              "        vertical-align: middle;\n",
              "    }\n",
              "\n",
              "    .dataframe tbody tr th {\n",
              "        vertical-align: top;\n",
              "    }\n",
              "\n",
              "    .dataframe thead th {\n",
              "        text-align: right;\n",
              "    }\n",
              "</style>\n",
              "<table border=\"1\" class=\"dataframe\">\n",
              "  <thead>\n",
              "    <tr style=\"text-align: right;\">\n",
              "      <th></th>\n",
              "      <th>Crisis</th>\n",
              "      <th>Tweet Count</th>\n",
              "    </tr>\n",
              "  </thead>\n",
              "  <tbody>\n",
              "    <tr>\n",
              "      <th>0</th>\n",
              "      <td>on-topic_floods</td>\n",
              "      <td>10603</td>\n",
              "    </tr>\n",
              "    <tr>\n",
              "      <th>1</th>\n",
              "      <td>off-topic_floods</td>\n",
              "      <td>9461</td>\n",
              "    </tr>\n",
              "    <tr>\n",
              "      <th>2</th>\n",
              "      <td>on-topic_hurricane</td>\n",
              "      <td>6138</td>\n",
              "    </tr>\n",
              "    <tr>\n",
              "      <th>3</th>\n",
              "      <td>on-topic_bombing</td>\n",
              "      <td>5648</td>\n",
              "    </tr>\n",
              "    <tr>\n",
              "      <th>4</th>\n",
              "      <td>on-topic_explosion</td>\n",
              "      <td>5246</td>\n",
              "    </tr>\n",
              "    <tr>\n",
              "      <th>5</th>\n",
              "      <td>off-topic_tornado</td>\n",
              "      <td>5165</td>\n",
              "    </tr>\n",
              "    <tr>\n",
              "      <th>6</th>\n",
              "      <td>on-topic_tornado</td>\n",
              "      <td>4827</td>\n",
              "    </tr>\n",
              "    <tr>\n",
              "      <th>7</th>\n",
              "      <td>off-topic_explosion</td>\n",
              "      <td>4760</td>\n",
              "    </tr>\n",
              "    <tr>\n",
              "      <th>8</th>\n",
              "      <td>on-topic_earthquake</td>\n",
              "      <td>4580</td>\n",
              "    </tr>\n",
              "    <tr>\n",
              "      <th>9</th>\n",
              "      <td>Off-topic_earthquake</td>\n",
              "      <td>4475</td>\n",
              "    </tr>\n",
              "    <tr>\n",
              "      <th>10</th>\n",
              "      <td>off-topic_bombing</td>\n",
              "      <td>4364</td>\n",
              "    </tr>\n",
              "    <tr>\n",
              "      <th>11</th>\n",
              "      <td>off-topic_hurricane</td>\n",
              "      <td>3870</td>\n",
              "    </tr>\n",
              "  </tbody>\n",
              "</table>\n",
              "</div>"
            ],
            "text/plain": [
              "                  Crisis  Tweet Count\n",
              "0        on-topic_floods        10603\n",
              "1       off-topic_floods         9461\n",
              "2     on-topic_hurricane         6138\n",
              "3       on-topic_bombing         5648\n",
              "4     on-topic_explosion         5246\n",
              "5      off-topic_tornado         5165\n",
              "6       on-topic_tornado         4827\n",
              "7    off-topic_explosion         4760\n",
              "8    on-topic_earthquake         4580\n",
              "9   Off-topic_earthquake         4475\n",
              "10     off-topic_bombing         4364\n",
              "11   off-topic_hurricane         3870"
            ]
          },
          "metadata": {
            "tags": []
          },
          "execution_count": 34
        }
      ]
    },
    {
      "cell_type": "code",
      "metadata": {
        "colab": {
          "base_uri": "https://localhost:8080/",
          "height": 475
        },
        "id": "Njgj5w6fRh7g",
        "outputId": "3565a457-5cd3-4cd8-ddd9-3c0cededd581"
      },
      "source": [
        "f,ax =plt.subplots(figsize=(15,7))\n",
        "sns.barplot(y='Crisis',x='Tweet Count',data=Crisis_topics ,palette=sns.light_palette((210, 90, 60),20, input=\"husl\" ,reverse=True),ax=ax)\n",
        "ax.set_xlabel(' ')\n",
        "ax.set_title('Numer of on-topic and off-topic Tweets in each crisis Category ')"
      ],
      "execution_count": 35,
      "outputs": [
        {
          "output_type": "execute_result",
          "data": {
            "text/plain": [
              "Text(0.5, 1.0, 'Numer of on-topic and off-topic Tweets in each crisis Category ')"
            ]
          },
          "metadata": {
            "tags": []
          },
          "execution_count": 35
        },
        {
          "output_type": "display_data",
          "data": {
            "image/png": "[encoded data removed]",
            "text/plain": [
              "<Figure size 1080x504 with 1 Axes>"
            ]
          },
          "metadata": {
            "tags": [],
            "needs_background": "light"
          }
        }
      ]
    },
    {
      "cell_type": "markdown",
      "metadata": {
        "id": "5MOZsN8hRh7g"
      },
      "source": [
        "### On-Topic Tweets\n",
        "\n",
        "Lets take a look at only the on topic Tweets in each Category:\n",
        "We can see that labels are balanced. We have about 5000 on-topic Tweets in each category except flood."
      ]
    },
    {
      "cell_type": "code",
      "metadata": {
        "colab": {
          "base_uri": "https://localhost:8080/",
          "height": 326
        },
        "id": "ELc_EBP2Rh7g",
        "outputId": "a3a84b94-af36-463f-ec1f-a208cfa4ec44"
      },
      "source": [
        "Crisis_topics_on_topic= Crisis_topics[Crisis_topics['Crisis'].str.contains(\"on-topic\")]\n",
        "Crisis_topics_on_topic['Tweet_pct']=Crisis_topics_on_topic['Tweet Count']*100/Crisis_topics_on_topic['Tweet Count'].sum()\n",
        "Crisis_topics_on_topic"
      ],
      "execution_count": 36,
      "outputs": [
        {
          "output_type": "stream",
          "text": [
            "/usr/local/lib/python3.7/dist-packages/ipykernel_launcher.py:2: SettingWithCopyWarning: \n",
            "A value is trying to be set on a copy of a slice from a DataFrame.\n",
            "Try using .loc[row_indexer,col_indexer] = value instead\n",
            "\n",
            "See the caveats in the documentation: https://pandas.pydata.org/pandas-docs/stable/user_guide/indexing.html#returning-a-view-versus-a-copy\n",
            "  \n"
          ],
          "name": "stderr"
        },
        {
          "output_type": "execute_result",
          "data": {
            "text/html": [
              "<div>\n",
              "<style scoped>\n",
              "    .dataframe tbody tr th:only-of-type {\n",
              "        vertical-align: middle;\n",
              "    }\n",
              "\n",
              "    .dataframe tbody tr th {\n",
              "        vertical-align: top;\n",
              "    }\n",
              "\n",
              "    .dataframe thead th {\n",
              "        text-align: right;\n",
              "    }\n",
              "</style>\n",
              "<table border=\"1\" class=\"dataframe\">\n",
              "  <thead>\n",
              "    <tr style=\"text-align: right;\">\n",
              "      <th></th>\n",
              "      <th>Crisis</th>\n",
              "      <th>Tweet Count</th>\n",
              "      <th>Tweet_pct</th>\n",
              "    </tr>\n",
              "  </thead>\n",
              "  <tbody>\n",
              "    <tr>\n",
              "      <th>0</th>\n",
              "      <td>on-topic_floods</td>\n",
              "      <td>10603</td>\n",
              "      <td>28.624264</td>\n",
              "    </tr>\n",
              "    <tr>\n",
              "      <th>2</th>\n",
              "      <td>on-topic_hurricane</td>\n",
              "      <td>6138</td>\n",
              "      <td>16.570380</td>\n",
              "    </tr>\n",
              "    <tr>\n",
              "      <th>3</th>\n",
              "      <td>on-topic_bombing</td>\n",
              "      <td>5648</td>\n",
              "      <td>15.247557</td>\n",
              "    </tr>\n",
              "    <tr>\n",
              "      <th>4</th>\n",
              "      <td>on-topic_explosion</td>\n",
              "      <td>5246</td>\n",
              "      <td>14.162302</td>\n",
              "    </tr>\n",
              "    <tr>\n",
              "      <th>6</th>\n",
              "      <td>on-topic_tornado</td>\n",
              "      <td>4827</td>\n",
              "      <td>13.031154</td>\n",
              "    </tr>\n",
              "    <tr>\n",
              "      <th>8</th>\n",
              "      <td>on-topic_earthquake</td>\n",
              "      <td>4580</td>\n",
              "      <td>12.364343</td>\n",
              "    </tr>\n",
              "  </tbody>\n",
              "</table>\n",
              "</div>"
            ],
            "text/plain": [
              "                Crisis  Tweet Count  Tweet_pct\n",
              "0      on-topic_floods        10603  28.624264\n",
              "2   on-topic_hurricane         6138  16.570380\n",
              "3     on-topic_bombing         5648  15.247557\n",
              "4   on-topic_explosion         5246  14.162302\n",
              "6     on-topic_tornado         4827  13.031154\n",
              "8  on-topic_earthquake         4580  12.364343"
            ]
          },
          "metadata": {
            "tags": []
          },
          "execution_count": 36
        }
      ]
    },
    {
      "cell_type": "code",
      "metadata": {
        "scrolled": false,
        "colab": {
          "base_uri": "https://localhost:8080/",
          "height": 464
        },
        "id": "r3R4XkdPRh7h",
        "outputId": "70ef98e3-09c7-41b7-aea9-e43140f0089f"
      },
      "source": [
        "f,ax =plt.subplots(figsize=(15,7))\n",
        "sns.barplot(x='Crisis',y='Tweet_pct',data=Crisis_topics_on_topic ,palette=sns.light_palette((216, 100, 40), input=\"husl\" ,reverse=True),ax=ax)\n",
        "ax.set_xlabel(' ')\n",
        "ax.set_ylabel('Percentage of on-topic Tweets in Each Category')"
      ],
      "execution_count": 37,
      "outputs": [
        {
          "output_type": "execute_result",
          "data": {
            "text/plain": [
              "Text(0, 0.5, 'Percentage of on-topic Tweets in Each Category')"
            ]
          },
          "metadata": {
            "tags": []
          },
          "execution_count": 37
        },
        {
          "output_type": "display_data",
          "data": {
            "image/png": "[encoded data removed]",
            "text/plain": [
              "<Figure size 1080x504 with 1 Axes>"
            ]
          },
          "metadata": {
            "tags": [],
            "needs_background": "light"
          }
        }
      ]
    },
    {
      "cell_type": "markdown",
      "metadata": {
        "id": "_6EUUrGpRh7h"
      },
      "source": [
        "###  Off-Topic Tweets\n",
        "For avoiding overfitting here we use a random set of off-topic tweets from each of the categories.We label all these tweets as **unrelated**. Using these additional label  would let the model learn to better distinguish between the related and unrelated tweets for each category.\n",
        "\n"
      ]
    },
    {
      "cell_type": "code",
      "metadata": {
        "colab": {
          "base_uri": "https://localhost:8080/",
          "height": 212
        },
        "id": "kuW3g4iXRh7i",
        "outputId": "fed84ba7-6870-4dd3-e71a-8f21f2334aa3"
      },
      "source": [
        "Crisis_topics_off_topic= Crisis_topics[~Crisis_topics['Crisis'].str.contains(\"on-topic\")]\n",
        "total_off_topic_tweets=Crisis_topics_off_topic['Tweet Count'].sum()\n",
        "print(\"Total Number of 'Off-Topic' Tweets\",total_off_topic_tweets)\n",
        "Crisis_topics_off_topic.head()"
      ],
      "execution_count": 38,
      "outputs": [
        {
          "output_type": "stream",
          "text": [
            "Total Number of 'Off-Topic' Tweets 32095\n"
          ],
          "name": "stdout"
        },
        {
          "output_type": "execute_result",
          "data": {
            "text/html": [
              "<div>\n",
              "<style scoped>\n",
              "    .dataframe tbody tr th:only-of-type {\n",
              "        vertical-align: middle;\n",
              "    }\n",
              "\n",
              "    .dataframe tbody tr th {\n",
              "        vertical-align: top;\n",
              "    }\n",
              "\n",
              "    .dataframe thead th {\n",
              "        text-align: right;\n",
              "    }\n",
              "</style>\n",
              "<table border=\"1\" class=\"dataframe\">\n",
              "  <thead>\n",
              "    <tr style=\"text-align: right;\">\n",
              "      <th></th>\n",
              "      <th>Crisis</th>\n",
              "      <th>Tweet Count</th>\n",
              "    </tr>\n",
              "  </thead>\n",
              "  <tbody>\n",
              "    <tr>\n",
              "      <th>1</th>\n",
              "      <td>off-topic_floods</td>\n",
              "      <td>9461</td>\n",
              "    </tr>\n",
              "    <tr>\n",
              "      <th>5</th>\n",
              "      <td>off-topic_tornado</td>\n",
              "      <td>5165</td>\n",
              "    </tr>\n",
              "    <tr>\n",
              "      <th>7</th>\n",
              "      <td>off-topic_explosion</td>\n",
              "      <td>4760</td>\n",
              "    </tr>\n",
              "    <tr>\n",
              "      <th>9</th>\n",
              "      <td>Off-topic_earthquake</td>\n",
              "      <td>4475</td>\n",
              "    </tr>\n",
              "    <tr>\n",
              "      <th>10</th>\n",
              "      <td>off-topic_bombing</td>\n",
              "      <td>4364</td>\n",
              "    </tr>\n",
              "  </tbody>\n",
              "</table>\n",
              "</div>"
            ],
            "text/plain": [
              "                  Crisis  Tweet Count\n",
              "1       off-topic_floods         9461\n",
              "5      off-topic_tornado         5165\n",
              "7    off-topic_explosion         4760\n",
              "9   Off-topic_earthquake         4475\n",
              "10     off-topic_bombing         4364"
            ]
          },
          "metadata": {
            "tags": []
          },
          "execution_count": 38
        }
      ]
    },
    {
      "cell_type": "markdown",
      "metadata": {
        "id": "zGEMIXQKRh7i"
      },
      "source": [
        "#### Imbalanced Data\n",
        "\n",
        "Lets plot the total number of off-topic tweets along with the on-topic tweets.Note that the \"off-topic\" would also be one of our prediction categories, as a result, this category should also have the same number of tweets as the other categories. \n"
      ]
    },
    {
      "cell_type": "code",
      "metadata": {
        "colab": {
          "base_uri": "https://localhost:8080/",
          "height": 355
        },
        "id": "MMtQ5Z1-Rh7j",
        "outputId": "311ced50-a803-4564-954a-d00ab1e64580"
      },
      "source": [
        "Crisis_topics_off_topic['Crisis']='unrelated'\n",
        "Crisis_topics_off_topic_g=Crisis_topics_off_topic.groupby(by='Crisis').sum()\n",
        "Crisis_topics_off_topic_g.reset_index(inplace=True)\n",
        "all_topics =Crisis_topics_off_topic_g.append(Crisis_topics_on_topic[['Crisis','Tweet Count']])\n",
        "all_topics"
      ],
      "execution_count": 39,
      "outputs": [
        {
          "output_type": "stream",
          "text": [
            "/usr/local/lib/python3.7/dist-packages/ipykernel_launcher.py:1: SettingWithCopyWarning: \n",
            "A value is trying to be set on a copy of a slice from a DataFrame.\n",
            "Try using .loc[row_indexer,col_indexer] = value instead\n",
            "\n",
            "See the caveats in the documentation: https://pandas.pydata.org/pandas-docs/stable/user_guide/indexing.html#returning-a-view-versus-a-copy\n",
            "  \"\"\"Entry point for launching an IPython kernel.\n"
          ],
          "name": "stderr"
        },
        {
          "output_type": "execute_result",
          "data": {
            "text/html": [
              "<div>\n",
              "<style scoped>\n",
              "    .dataframe tbody tr th:only-of-type {\n",
              "        vertical-align: middle;\n",
              "    }\n",
              "\n",
              "    .dataframe tbody tr th {\n",
              "        vertical-align: top;\n",
              "    }\n",
              "\n",
              "    .dataframe thead th {\n",
              "        text-align: right;\n",
              "    }\n",
              "</style>\n",
              "<table border=\"1\" class=\"dataframe\">\n",
              "  <thead>\n",
              "    <tr style=\"text-align: right;\">\n",
              "      <th></th>\n",
              "      <th>Crisis</th>\n",
              "      <th>Tweet Count</th>\n",
              "    </tr>\n",
              "  </thead>\n",
              "  <tbody>\n",
              "    <tr>\n",
              "      <th>0</th>\n",
              "      <td>unrelated</td>\n",
              "      <td>32095</td>\n",
              "    </tr>\n",
              "    <tr>\n",
              "      <th>0</th>\n",
              "      <td>on-topic_floods</td>\n",
              "      <td>10603</td>\n",
              "    </tr>\n",
              "    <tr>\n",
              "      <th>2</th>\n",
              "      <td>on-topic_hurricane</td>\n",
              "      <td>6138</td>\n",
              "    </tr>\n",
              "    <tr>\n",
              "      <th>3</th>\n",
              "      <td>on-topic_bombing</td>\n",
              "      <td>5648</td>\n",
              "    </tr>\n",
              "    <tr>\n",
              "      <th>4</th>\n",
              "      <td>on-topic_explosion</td>\n",
              "      <td>5246</td>\n",
              "    </tr>\n",
              "    <tr>\n",
              "      <th>6</th>\n",
              "      <td>on-topic_tornado</td>\n",
              "      <td>4827</td>\n",
              "    </tr>\n",
              "    <tr>\n",
              "      <th>8</th>\n",
              "      <td>on-topic_earthquake</td>\n",
              "      <td>4580</td>\n",
              "    </tr>\n",
              "  </tbody>\n",
              "</table>\n",
              "</div>"
            ],
            "text/plain": [
              "                Crisis  Tweet Count\n",
              "0            unrelated        32095\n",
              "0      on-topic_floods        10603\n",
              "2   on-topic_hurricane         6138\n",
              "3     on-topic_bombing         5648\n",
              "4   on-topic_explosion         5246\n",
              "6     on-topic_tornado         4827\n",
              "8  on-topic_earthquake         4580"
            ]
          },
          "metadata": {
            "tags": []
          },
          "execution_count": 39
        }
      ]
    },
    {
      "cell_type": "code",
      "metadata": {
        "colab": {
          "base_uri": "https://localhost:8080/",
          "height": 476
        },
        "id": "J1KXx7IMRh7j",
        "outputId": "e68d0691-183a-48d1-8d2e-bdb4533da11d"
      },
      "source": [
        "f,ax =plt.subplots(figsize=(15,7))\n",
        "blues=sns.light_palette((216, 100, 40),all_topics.shape[0], input=\"husl\" ,reverse=True)\n",
        "blues[0]=sns.color_palette(\"RdBu\", 10)[0]\n",
        "sns.barplot(x='Crisis',y='Tweet Count',data=all_topics ,palette=blues, ax=ax)\n",
        "ax.set_xlabel(' ')\n",
        "ax.set_ylabel('Number of Tweets')\n",
        "ax.set_title( 'Imbalanced Dataset: Total Number of Tweets in each category')"
      ],
      "execution_count": 40,
      "outputs": [
        {
          "output_type": "execute_result",
          "data": {
            "text/plain": [
              "Text(0.5, 1.0, 'Imbalanced Dataset: Total Number of Tweets in each category')"
            ]
          },
          "metadata": {
            "tags": []
          },
          "execution_count": 40
        },
        {
          "output_type": "display_data",
          "data": {
            "image/png": "[encoded data removed]",
            "text/plain": [
              "<Figure size 1080x504 with 1 Axes>"
            ]
          },
          "metadata": {
            "tags": [],
            "needs_background": "light"
          }
        }
      ]
    },
    {
      "cell_type": "markdown",
      "metadata": {
        "id": "fEN6WDAYRh7j"
      },
      "source": [
        "#### Balancing the Data\n",
        "As we can see the number of *unrelated* tweets are way higher than the actual on topic tweets.To solve the problem, we resample a subset of these these unrelated Tweets.The total number that we re-sample from these unrelated tweets would be equal to the average number of all tweets in each dataset."
      ]
    },
    {
      "cell_type": "code",
      "metadata": {
        "id": "unPC9VSIRh7k"
      },
      "source": [
        "class DistributionValidSampler(BaseEstimator,TransformerMixin):\n",
        "    \"\"\"Samples the (related and random ) tweets with equal proportion\"\"\"\n",
        "    def __init__(self,unrelated_size=None ,ignore_unrelated_proportion=True):\n",
        "        self._unrelated_size=unrelated_size\n",
        "        self._ignore_unrelated_proportion=ignore_unrelated_proportion\n",
        "\n",
        "        \n",
        "    def transform(self,X,y=None):\n",
        "        #Shuffle tweets\n",
        "        X_=X.sample(frac=1).reset_index(drop=True)\n",
        "        X_=self._label_categories(X_)  \n",
        "        related,unrelated =self._equal_split(X_)\n",
        "        X_=self._merge(related,unrelated)\n",
        "        X_=X_.drop('category',axis=1)       \n",
        "        return X_\n",
        "    \n",
        "    def _label_categories(self,X):\n",
        "        \"\"\"Assings the category name to on-topic tweets and unrelated to off-topic tweets in \n",
        "         each category\n",
        "        \"\"\"   \n",
        "        if self._ignore_unrelated_proportion:\n",
        "            X['label']=X.apply(lambda row: row['category'] if 'on-topic' in row['label'] else 'unrelated',axis=1 ) \n",
        "        else:\n",
        "            X['label']=X.apply(lambda row: row['category'] if 'on-topic' in row['label'] else 'unrelated_'+row['category'],axis=1 )  \n",
        "        return X\n",
        "    \n",
        "    def _equal_split(self,X):\n",
        "        \"\"\"Splits the dataseta into related and unrelated tweets.\n",
        "          This ensures that the number of unrelated tweets are not too high and \n",
        "          is in reasonable range.\n",
        "        \"\"\"\n",
        "        related=X[X['label'].str.contains('unrelated')==False]\n",
        "        unrelated=X[X['label'].str.contains('unrelated')]\n",
        "        ave_tweets=self._average_tweet_per_category(X)\n",
        "        unrelated=self._slice(unrelated,size=self._unrelated_size ,ave_size=ave_tweets)\n",
        "        return related,unrelated\n",
        "    \n",
        "    def _merge(self,X1,X2):\n",
        "        \"\"\"Merges the dataframes toghether\"\"\"\n",
        "        X=pd.DataFrame()\n",
        "        X=X.append(X1)\n",
        "        X=X.append(X2)\n",
        "        return X\n",
        "    \n",
        "    def _slice(self,X, size ,ave_size):\n",
        "        \"\"\"Extracts a subset of rows from a dataframe\"\"\"\n",
        "        if size is None:\n",
        "            size =ave_size\n",
        "        if size < X.shape[0]:\n",
        "            return X[:size]\n",
        "        return X    \n",
        "    \n",
        "    def _average_tweet_per_category(self,X):\n",
        "        \"\"\"Calculate the average number of tweets across all tweet categories\"\"\"\n",
        "        category_values=pd.DataFrame(X['label'].value_counts())\n",
        "        category_values=category_values.drop('unrelated',axis=0)\n",
        "        return int(category_values['label'].mean())\n",
        "        "
      ],
      "execution_count": 41,
      "outputs": []
    },
    {
      "cell_type": "code",
      "metadata": {
        "scrolled": false,
        "colab": {
          "base_uri": "https://localhost:8080/",
          "height": 254
        },
        "id": "zKWfKpvARh7l",
        "outputId": "c96c5388-7681-4705-84b4-2e75c0012ed4"
      },
      "source": [
        "dataset_resampled=DistributionValidSampler().transform(dataset_cleaned)\n",
        "dataset_resampled_topics=pd.DataFrame(dataset_resampled['label'].value_counts())\n",
        "display(dataset_resampled_topics)\n",
        "dataset_resampled_topics.reset_index(inplace=True)"
      ],
      "execution_count": 42,
      "outputs": [
        {
          "output_type": "display_data",
          "data": {
            "text/html": [
              "<div>\n",
              "<style scoped>\n",
              "    .dataframe tbody tr th:only-of-type {\n",
              "        vertical-align: middle;\n",
              "    }\n",
              "\n",
              "    .dataframe tbody tr th {\n",
              "        vertical-align: top;\n",
              "    }\n",
              "\n",
              "    .dataframe thead th {\n",
              "        text-align: right;\n",
              "    }\n",
              "</style>\n",
              "<table border=\"1\" class=\"dataframe\">\n",
              "  <thead>\n",
              "    <tr style=\"text-align: right;\">\n",
              "      <th></th>\n",
              "      <th>label</th>\n",
              "    </tr>\n",
              "  </thead>\n",
              "  <tbody>\n",
              "    <tr>\n",
              "      <th>floods</th>\n",
              "      <td>10603</td>\n",
              "    </tr>\n",
              "    <tr>\n",
              "      <th>unrelated</th>\n",
              "      <td>6173</td>\n",
              "    </tr>\n",
              "    <tr>\n",
              "      <th>hurricane</th>\n",
              "      <td>6138</td>\n",
              "    </tr>\n",
              "    <tr>\n",
              "      <th>bombing</th>\n",
              "      <td>5648</td>\n",
              "    </tr>\n",
              "    <tr>\n",
              "      <th>explosion</th>\n",
              "      <td>5246</td>\n",
              "    </tr>\n",
              "    <tr>\n",
              "      <th>tornado</th>\n",
              "      <td>4827</td>\n",
              "    </tr>\n",
              "    <tr>\n",
              "      <th>earthquake</th>\n",
              "      <td>4580</td>\n",
              "    </tr>\n",
              "  </tbody>\n",
              "</table>\n",
              "</div>"
            ],
            "text/plain": [
              "            label\n",
              "floods      10603\n",
              "unrelated    6173\n",
              "hurricane    6138\n",
              "bombing      5648\n",
              "explosion    5246\n",
              "tornado      4827\n",
              "earthquake   4580"
            ]
          },
          "metadata": {
            "tags": []
          }
        }
      ]
    },
    {
      "cell_type": "markdown",
      "metadata": {
        "id": "lNjUUD0SRh7l"
      },
      "source": [
        "Lets see the number of tweets in each category in the re-sampled dataset:"
      ]
    },
    {
      "cell_type": "code",
      "metadata": {
        "colab": {
          "base_uri": "https://localhost:8080/",
          "height": 475
        },
        "id": "I3D28rOrRh7l",
        "outputId": "00124fb2-e0de-46e7-880f-d33e586ebd7f"
      },
      "source": [
        "f,ax =plt.subplots(figsize=(15,7))\n",
        "blues=sns.light_palette((216, 100, 40),dataset_resampled_topics.shape[0], input=\"husl\" ,reverse=True)\n",
        "blues[1]=sns.color_palette(\"RdBu\", 10)[0]\n",
        "sns.barplot(x='index',y='label',data=dataset_resampled_topics ,palette=blues, ax=ax)\n",
        "ax.set_xlabel(' ')\n",
        "ax.set_ylabel('Number of Tweets')\n",
        "ax.set_title( 'Balanced Dataset: Total Number of Tweets in each category')"
      ],
      "execution_count": 43,
      "outputs": [
        {
          "output_type": "execute_result",
          "data": {
            "text/plain": [
              "Text(0.5, 1.0, 'Balanced Dataset: Total Number of Tweets in each category')"
            ]
          },
          "metadata": {
            "tags": []
          },
          "execution_count": 43
        },
        {
          "output_type": "display_data",
          "data": {
            "image/png": "[encoded data removed]",
            "text/plain": [
              "<Figure size 1080x504 with 1 Axes>"
            ]
          },
          "metadata": {
            "tags": [],
            "needs_background": "light"
          }
        }
      ]
    },
    {
      "cell_type": "markdown",
      "metadata": {
        "id": "YQxnH6UJRh7m"
      },
      "source": [
        "# Data Transformation\n",
        "###  Tokenization\n",
        "We have used the Tokenizer() class from the Keras Preprocessing  to vectorize our text data. It will turn our sentences into sequences of integers.\n",
        "### Padding\n",
        "We pad all the vectorized text sequences with zeros to make all the sequences of the same length. "
      ]
    },
    {
      "cell_type": "code",
      "metadata": {
        "id": "zRMzOnW_Rh7m"
      },
      "source": [
        "class TextTokenizer(BaseEstimator,TransformerMixin):\n",
        "    \"\"\"This is a simple Wrapper class for Keras Tokenizer.\"\"\"\n",
        "    def __init__(self,pad_sequences,num_words=10000,max_length=100,max_pad_length=100 ):\n",
        "        self._num_words=num_words\n",
        "        self.max_length=max_length\n",
        "        self._tokenizer=None\n",
        "        self._pad_sequences=pad_sequences\n",
        "        self._max_pad_length=max_pad_length\n",
        "        self.vocab_size=None\n",
        "        self.tokenizer=None\n",
        "        \n",
        "    def transform(self,X,y=None):\n",
        "        self.tokenizer,self.vocab_size=self._get_tokenizer(X['tweet'])\n",
        "        X['tweet_encoded']=self.tokenizer.texts_to_sequences(X['tweet'])\n",
        "        X['tweet_encoded']= X['tweet_encoded'].apply(lambda x: self._pad_sequences([x],maxlen=self._max_pad_length ,padding='post')[0])\n",
        "        \n",
        "        return X\n",
        "    def _get_tokenizer(self,X):\n",
        "        tokenizer=tf.keras.preprocessing.text.Tokenizer(num_words=self._num_words)\n",
        "        tokenizer.fit_on_texts(X)\n",
        "        vocab_size=len(tokenizer.word_index)+1\n",
        "        return tokenizer,vocab_size"
      ],
      "execution_count": 44,
      "outputs": []
    },
    {
      "cell_type": "code",
      "metadata": {
        "scrolled": true,
        "colab": {
          "base_uri": "https://localhost:8080/",
          "height": 212
        },
        "id": "236WrirJRh7n",
        "outputId": "3fad761f-cb24-498d-dbcf-a5c60c17c153"
      },
      "source": [
        "tokenization=TextTokenizer(pad_sequences)\n",
        "dataset_tokenized=tokenization.transform(dataset_resampled)\n",
        "vocab_size=tokenization.vocab_size\n",
        "print('Vocab Size:',vocab_size)\n",
        "dataset_tokenized.head()"
      ],
      "execution_count": 45,
      "outputs": [
        {
          "output_type": "stream",
          "text": [
            "Vocab Size: 65279\n"
          ],
          "name": "stdout"
        },
        {
          "output_type": "execute_result",
          "data": {
            "text/html": [
              "<div>\n",
              "<style scoped>\n",
              "    .dataframe tbody tr th:only-of-type {\n",
              "        vertical-align: middle;\n",
              "    }\n",
              "\n",
              "    .dataframe tbody tr th {\n",
              "        vertical-align: top;\n",
              "    }\n",
              "\n",
              "    .dataframe thead th {\n",
              "        text-align: right;\n",
              "    }\n",
              "</style>\n",
              "<table border=\"1\" class=\"dataframe\">\n",
              "  <thead>\n",
              "    <tr style=\"text-align: right;\">\n",
              "      <th></th>\n",
              "      <th>tweet</th>\n",
              "      <th>label</th>\n",
              "      <th>tweet_encoded</th>\n",
              "    </tr>\n",
              "  </thead>\n",
              "  <tbody>\n",
              "    <tr>\n",
              "      <th>1</th>\n",
              "      <td>rtabc7:photo:usgsshakemapshowslocationof82-mag...</td>\n",
              "      <td>earthquake</td>\n",
              "      <td>[1739, 44, 7530, 7531, 1, 0, 0, 0, 0, 0, 0, 0,...</td>\n",
              "    </tr>\n",
              "    <tr>\n",
              "      <th>2</th>\n",
              "      <td>glassjewrtyouranonnews:wolfblitzertotornadosur...</td>\n",
              "      <td>tornado</td>\n",
              "      <td>[7532, 1740, 1741, 1121, 0, 0, 0, 0, 0, 0, 0, ...</td>\n",
              "    </tr>\n",
              "    <tr>\n",
              "      <th>5</th>\n",
              "      <td>aircrafttoevacuatecanadianssettoarriveinearthq...</td>\n",
              "      <td>earthquake</td>\n",
              "      <td>[7533, 505, 0, 0, 0, 0, 0, 0, 0, 0, 0, 0, 0, 0...</td>\n",
              "    </tr>\n",
              "    <tr>\n",
              "      <th>7</th>\n",
              "      <td>justgotoffthephonewithmysisterinjerseyshesaide...</td>\n",
              "      <td>hurricane</td>\n",
              "      <td>[7534, 0, 0, 0, 0, 0, 0, 0, 0, 0, 0, 0, 0, 0, ...</td>\n",
              "    </tr>\n",
              "    <tr>\n",
              "      <th>8</th>\n",
              "      <td>rtlovefor:riptothe8year-oldgirlwhodiedinexplos...</td>\n",
              "      <td>bombing</td>\n",
              "      <td>[506, 42, 73, 0, 0, 0, 0, 0, 0, 0, 0, 0, 0, 0,...</td>\n",
              "    </tr>\n",
              "  </tbody>\n",
              "</table>\n",
              "</div>"
            ],
            "text/plain": [
              "                                               tweet  ...                                      tweet_encoded\n",
              "1  rtabc7:photo:usgsshakemapshowslocationof82-mag...  ...  [1739, 44, 7530, 7531, 1, 0, 0, 0, 0, 0, 0, 0,...\n",
              "2  glassjewrtyouranonnews:wolfblitzertotornadosur...  ...  [7532, 1740, 1741, 1121, 0, 0, 0, 0, 0, 0, 0, ...\n",
              "5  aircrafttoevacuatecanadianssettoarriveinearthq...  ...  [7533, 505, 0, 0, 0, 0, 0, 0, 0, 0, 0, 0, 0, 0...\n",
              "7  justgotoffthephonewithmysisterinjerseyshesaide...  ...  [7534, 0, 0, 0, 0, 0, 0, 0, 0, 0, 0, 0, 0, 0, ...\n",
              "8  rtlovefor:riptothe8year-oldgirlwhodiedinexplos...  ...  [506, 42, 73, 0, 0, 0, 0, 0, 0, 0, 0, 0, 0, 0,...\n",
              "\n",
              "[5 rows x 3 columns]"
            ]
          },
          "metadata": {
            "tags": []
          },
          "execution_count": 45
        }
      ]
    },
    {
      "cell_type": "markdown",
      "metadata": {
        "id": "AqfyoA03Rh7n"
      },
      "source": [
        "### Label Encoding\n",
        "In this step all the target labels are converted to integer values.We use the LabelEncoder class from the Sklean package.\n",
        "\n",
        "### One Hot Encoding \n",
        "In the next step we use the integer values for labels and create a one hot vector to be used for the machine learning analysis."
      ]
    },
    {
      "cell_type": "code",
      "metadata": {
        "id": "9fI1gvkMRh7n"
      },
      "source": [
        "class LabelOneHotEncoder(BaseEstimator,TransformerMixin):\n",
        "    \"\"\"Transfroms the Categorical data to One Hot vector\"\"\"\n",
        "    def __init__(self):\n",
        "        self.label_encoder=None\n",
        "        self.one_hot_encoder=None\n",
        "        \n",
        "    def transform(self,X,y=None):\n",
        "        self.label_encoder=LabelEncoder().fit(X['label'])\n",
        "        self.one_hot_encoder=to_categorical\n",
        "        num_classes=len(set(X['label']))\n",
        "        X['label_encoded']= self.label_encoder.transform(X['label'].values)\n",
        "        X['label_one_hot']= X['label_encoded'].apply(lambda x: self.one_hot_encoder([x],num_classes=num_classes)[0])   \n",
        "        \n",
        "        return X"
      ],
      "execution_count": 46,
      "outputs": []
    },
    {
      "cell_type": "code",
      "metadata": {
        "colab": {
          "base_uri": "https://localhost:8080/",
          "height": 195
        },
        "id": "VeuT1_zwRh7o",
        "outputId": "d98d65fe-f604-4314-bdd8-6a3aad8f8822"
      },
      "source": [
        "encoder=LabelOneHotEncoder()\n",
        "dataset_encoded=encoder.transform(dataset_resampled)\n",
        "dataset_encoded.head()"
      ],
      "execution_count": 47,
      "outputs": [
        {
          "output_type": "execute_result",
          "data": {
            "text/html": [
              "<div>\n",
              "<style scoped>\n",
              "    .dataframe tbody tr th:only-of-type {\n",
              "        vertical-align: middle;\n",
              "    }\n",
              "\n",
              "    .dataframe tbody tr th {\n",
              "        vertical-align: top;\n",
              "    }\n",
              "\n",
              "    .dataframe thead th {\n",
              "        text-align: right;\n",
              "    }\n",
              "</style>\n",
              "<table border=\"1\" class=\"dataframe\">\n",
              "  <thead>\n",
              "    <tr style=\"text-align: right;\">\n",
              "      <th></th>\n",
              "      <th>tweet</th>\n",
              "      <th>label</th>\n",
              "      <th>tweet_encoded</th>\n",
              "      <th>label_encoded</th>\n",
              "      <th>label_one_hot</th>\n",
              "    </tr>\n",
              "  </thead>\n",
              "  <tbody>\n",
              "    <tr>\n",
              "      <th>1</th>\n",
              "      <td>rtabc7:photo:usgsshakemapshowslocationof82-mag...</td>\n",
              "      <td>earthquake</td>\n",
              "      <td>[1739, 44, 7530, 7531, 1, 0, 0, 0, 0, 0, 0, 0,...</td>\n",
              "      <td>1</td>\n",
              "      <td>[0.0, 1.0, 0.0, 0.0, 0.0, 0.0, 0.0]</td>\n",
              "    </tr>\n",
              "    <tr>\n",
              "      <th>2</th>\n",
              "      <td>glassjewrtyouranonnews:wolfblitzertotornadosur...</td>\n",
              "      <td>tornado</td>\n",
              "      <td>[7532, 1740, 1741, 1121, 0, 0, 0, 0, 0, 0, 0, ...</td>\n",
              "      <td>5</td>\n",
              "      <td>[0.0, 0.0, 0.0, 0.0, 0.0, 1.0, 0.0]</td>\n",
              "    </tr>\n",
              "    <tr>\n",
              "      <th>5</th>\n",
              "      <td>aircrafttoevacuatecanadianssettoarriveinearthq...</td>\n",
              "      <td>earthquake</td>\n",
              "      <td>[7533, 505, 0, 0, 0, 0, 0, 0, 0, 0, 0, 0, 0, 0...</td>\n",
              "      <td>1</td>\n",
              "      <td>[0.0, 1.0, 0.0, 0.0, 0.0, 0.0, 0.0]</td>\n",
              "    </tr>\n",
              "    <tr>\n",
              "      <th>7</th>\n",
              "      <td>justgotoffthephonewithmysisterinjerseyshesaide...</td>\n",
              "      <td>hurricane</td>\n",
              "      <td>[7534, 0, 0, 0, 0, 0, 0, 0, 0, 0, 0, 0, 0, 0, ...</td>\n",
              "      <td>4</td>\n",
              "      <td>[0.0, 0.0, 0.0, 0.0, 1.0, 0.0, 0.0]</td>\n",
              "    </tr>\n",
              "    <tr>\n",
              "      <th>8</th>\n",
              "      <td>rtlovefor:riptothe8year-oldgirlwhodiedinexplos...</td>\n",
              "      <td>bombing</td>\n",
              "      <td>[506, 42, 73, 0, 0, 0, 0, 0, 0, 0, 0, 0, 0, 0,...</td>\n",
              "      <td>0</td>\n",
              "      <td>[1.0, 0.0, 0.0, 0.0, 0.0, 0.0, 0.0]</td>\n",
              "    </tr>\n",
              "  </tbody>\n",
              "</table>\n",
              "</div>"
            ],
            "text/plain": [
              "                                               tweet  ...                        label_one_hot\n",
              "1  rtabc7:photo:usgsshakemapshowslocationof82-mag...  ...  [0.0, 1.0, 0.0, 0.0, 0.0, 0.0, 0.0]\n",
              "2  glassjewrtyouranonnews:wolfblitzertotornadosur...  ...  [0.0, 0.0, 0.0, 0.0, 0.0, 1.0, 0.0]\n",
              "5  aircrafttoevacuatecanadianssettoarriveinearthq...  ...  [0.0, 1.0, 0.0, 0.0, 0.0, 0.0, 0.0]\n",
              "7  justgotoffthephonewithmysisterinjerseyshesaide...  ...  [0.0, 0.0, 0.0, 0.0, 1.0, 0.0, 0.0]\n",
              "8  rtlovefor:riptothe8year-oldgirlwhodiedinexplos...  ...  [1.0, 0.0, 0.0, 0.0, 0.0, 0.0, 0.0]\n",
              "\n",
              "[5 rows x 5 columns]"
            ]
          },
          "metadata": {
            "tags": []
          },
          "execution_count": 47
        }
      ]
    },
    {
      "cell_type": "markdown",
      "metadata": {
        "id": "54efXVwVRh7o"
      },
      "source": [
        "### Word embeddings\n",
        "Word embeddings can be generated using pre-trained word embeddings such as Glove and Word2Vec. Here we use the Embedding Layer of Keras maps the pre-calculated integers to a dense vector of the embedding.\n",
        "\n"
      ]
    },
    {
      "cell_type": "markdown",
      "metadata": {
        "id": "Y2IZgQtjRh7o"
      },
      "source": [
        "### Train test Data set \n",
        "In this section we split our data into training and testing datasets. Here we use the train_test_split tool from the sklean library to achieve this goal.\n",
        "\n"
      ]
    },
    {
      "cell_type": "code",
      "metadata": {
        "scrolled": true,
        "colab": {
          "base_uri": "https://localhost:8080/"
        },
        "id": "3itGbaKMRh7p",
        "outputId": "5158b9fd-aedd-44f9-e72a-4d03cb572782"
      },
      "source": [
        "X_train,X_test,y_train,y_test =train_test_split(dataset_encoded['tweet_encoded'],dataset_encoded['label_one_hot'],test_size=0.3,stratify=dataset_encoded['label_encoded'])\n",
        "X_train=np.array(X_train.values.tolist())\n",
        "X_test=np.array(X_test.values.tolist())\n",
        "y_train=np.array(y_train.values.tolist())\n",
        "y_test=np.array(y_test.values.tolist())\n",
        "print('Number of Tweets in Training set: ',X_train.shape[0])\n",
        "print('Number of Tweets in Test set: ',X_test.shape[0])"
      ],
      "execution_count": 48,
      "outputs": [
        {
          "output_type": "stream",
          "text": [
            "Number of Tweets in Training set:  30250\n",
            "Number of Tweets in Test set:  12965\n"
          ],
          "name": "stdout"
        }
      ]
    },
    {
      "cell_type": "markdown",
      "metadata": {
        "id": "vp4v6FqeRh7p"
      },
      "source": [
        "# Modeling \n",
        "\n",
        "### Model Architecture\n",
        "For the modeling we will use the Keras's Sequential model API.\n"
      ]
    },
    {
      "cell_type": "code",
      "metadata": {
        "colab": {
          "base_uri": "https://localhost:8080/"
        },
        "id": "DGt_WuXMRh7p",
        "outputId": "9117bdc9-9211-4122-abd7-310e45619890"
      },
      "source": [
        "max_length=100\n",
        "embeding_dim=50\n",
        "num_classes=y_train[0].shape[0]\n",
        "model=Sequential()\n",
        "model.add(Embedding(input_dim=vocab_size,output_dim=embeding_dim,input_length=max_length))\n",
        "model.add(GlobalMaxPool1D())\n",
        "model.add(Dropout(0.3))\n",
        "model.add(Dense(10,activation='relu'))\n",
        "model.add(Dropout(0.3))\n",
        "model.add(Dense(num_classes,activation='softmax'))\n",
        "model.compile(optimizer='adam',loss='categorical_crossentropy',metrics=['accuracy'] )\n",
        "model.summary()"
      ],
      "execution_count": 49,
      "outputs": [
        {
          "output_type": "stream",
          "text": [
            "Model: \"sequential\"\n",
            "_________________________________________________________________\n",
            "Layer (type)                 Output Shape              Param #   \n",
            "=================================================================\n",
            "embedding (Embedding)        (None, 100, 50)           3263950   \n",
            "_________________________________________________________________\n",
            "global_max_pooling1d (Global (None, 50)                0         \n",
            "_________________________________________________________________\n",
            "dropout (Dropout)            (None, 50)                0         \n",
            "_________________________________________________________________\n",
            "dense (Dense)                (None, 10)                510       \n",
            "_________________________________________________________________\n",
            "dropout_1 (Dropout)          (None, 10)                0         \n",
            "_________________________________________________________________\n",
            "dense_1 (Dense)              (None, 7)                 77        \n",
            "=================================================================\n",
            "Total params: 3,264,537\n",
            "Trainable params: 3,264,537\n",
            "Non-trainable params: 0\n",
            "_________________________________________________________________\n"
          ],
          "name": "stdout"
        }
      ]
    },
    {
      "cell_type": "code",
      "metadata": {
        "id": "CFmF3EmZRh7p"
      },
      "source": [
        "class PlotLosses(tf.keras.callbacks.Callback):\n",
        "    \"\"\"Simple utility function to plot the model losses during training\"\"\"\n",
        "    def on_train_begin(self, logs={}):\n",
        "        self.i = 0\n",
        "        self.x = []\n",
        "        self.losses = []\n",
        "        self.val_losses = []\n",
        "        \n",
        "        self.fig = plt.figure()\n",
        "        \n",
        "        self.logs = []\n",
        "\n",
        "    def on_epoch_end(self, epoch, logs={}):\n",
        "        \n",
        "        self.logs.append(logs)\n",
        "        self.x.append(self.i)\n",
        "        self.losses.append(logs.get('loss'))\n",
        "        self.val_losses.append(logs.get('val_loss'))\n",
        "        self.i += 1\n",
        "        \n",
        "        clear_output(wait=True)\n",
        "        plt.plot(self.x, self.losses, label=\"loss\")\n",
        "        plt.plot(self.x, self.val_losses, label=\"val_loss\")\n",
        "        plt.legend()\n",
        "        plt.show();\n",
        "plot_losses = PlotLosses() \n",
        "\n",
        "def save_model(model,save_name):\n",
        "    with open(save_name,'w+') as f:\n",
        "        f.write(model.to_json())\n",
        "    model.save_weights(save_name+'.h5') "
      ],
      "execution_count": 50,
      "outputs": []
    },
    {
      "cell_type": "markdown",
      "metadata": {
        "id": "8q1_Yo8XRh7q"
      },
      "source": [
        "###  Training "
      ]
    },
    {
      "cell_type": "code",
      "metadata": {
        "colab": {
          "base_uri": "https://localhost:8080/",
          "height": 265
        },
        "id": "C02p4ZotRh7q",
        "outputId": "f0fdc05e-bb1e-48de-a54e-57c988b03a95"
      },
      "source": [
        "model.fit(X_train,y_train,epochs=2,batch_size=10,verbose=0,validation_data=(X_test,y_test),callbacks=[plot_losses])\n",
        "save_model(model,'model')"
      ],
      "execution_count": 51,
      "outputs": [
        {
          "output_type": "display_data",
          "data": {
            "image/png": "[encoded data removed]",
            "text/plain": [
              "<Figure size 432x288 with 1 Axes>"
            ]
          },
          "metadata": {
            "tags": [],
            "needs_background": "light"
          }
        }
      ]
    },
    {
      "cell_type": "markdown",
      "metadata": {
        "id": "gNIleqsJRh7q"
      },
      "source": [
        "### Evaluation"
      ]
    },
    {
      "cell_type": "code",
      "metadata": {
        "colab": {
          "base_uri": "https://localhost:8080/"
        },
        "id": "M7PYFF7cRh7q",
        "outputId": "109d39dd-e5da-4152-ec2b-a6dad11acf1c"
      },
      "source": [
        "# load json and create model\n",
        "json_file = open('model', 'r')\n",
        "loaded_model_json = json_file.read()\n",
        "json_file.close()\n",
        "loaded_model = model_from_json(loaded_model_json)\n",
        "# load weights into new model\n",
        "loaded_model.load_weights(\"model.h5\")\n",
        "print(\"Loaded model from disk\")\n",
        " \n",
        "# evaluate loaded model on test data\n",
        "loaded_model.compile(loss='categorical_crossentropy', optimizer='adam', metrics=['accuracy'])\n",
        "score = loaded_model.evaluate(X_test, y_test, verbose=0)\n",
        "print(\"%s: %.2f%%\" % (loaded_model.metrics_names[1], score[1]*100))"
      ],
      "execution_count": 52,
      "outputs": [
        {
          "output_type": "stream",
          "text": [
            "Loaded model from disk\n",
            "accuracy: 44.79%\n"
          ],
          "name": "stdout"
        }
      ]
    },
    {
      "cell_type": "markdown",
      "metadata": {
        "id": "zlN6d5ZxRh7r"
      },
      "source": [
        "###  Hyper-parameter Optimization"
      ]
    },
    {
      "cell_type": "code",
      "metadata": {
        "id": "-DiGjWGHRh7r"
      },
      "source": [
        "def create_model(dropout, dense_size, vocab_size, embedding_dim, maxlen):\n",
        "    model=Sequential()\n",
        "    model.add(Embedding(input_dim=vocab_size,output_dim=embeding_dim,input_length=max_length))\n",
        "    model.add(GlobalMaxPool1D())\n",
        "    model.add(Dropout(dropout))\n",
        "    model.add(Dense(dense_size,activation='relu'))\n",
        "    model.add(Dropout(dropout))\n",
        "    model.add(Dense(num_classes,activation='softmax'))\n",
        "    model.compile(optimizer='adam',loss='categorical_crossentropy',metrics=['accuracy'])\n",
        "    return model"
      ],
      "execution_count": 53,
      "outputs": []
    },
    {
      "cell_type": "code",
      "metadata": {
        "colab": {
          "base_uri": "https://localhost:8080/"
        },
        "id": "AVEaAvJ2Rh7r",
        "outputId": "6303da71-2117-4af3-e1d6-ea5cca22f80f"
      },
      "source": [
        "# Main settings\n",
        "epochs = 5\n",
        "embedding_dim = 50\n",
        "maxlen = 100\n",
        "vocab_size=10000\n",
        "output_file = 'output.txt'\n",
        "dense_size=[10, 50,100],\n",
        "# Parameter grid for grid search\n",
        "param_grid = dict(dropout=[0.1],\n",
        "                  dense_size=[10, 50,100],\n",
        "                  vocab_size=[vocab_size],\n",
        "                  embedding_dim=[embedding_dim],\n",
        "                  maxlen=[maxlen])\n",
        "model = KerasClassifier(build_fn=create_model,\n",
        "                        epochs=epochs, batch_size=10,\n",
        "                        verbose=False)\n",
        "grid = RandomizedSearchCV(estimator=model, param_distributions=param_grid,\n",
        "                          cv=4, verbose=1, n_iter=5 ,n_jobs=2)\n",
        "grid_result = grid.fit(X_train, y_train)\n",
        "\n",
        "# Evaluate testing set\n",
        "test_accuracy = grid.score(X_test, y_test)\n",
        "# Save and evaluate results\n",
        "with open(output_file, 'a') as f:\n",
        "    s = ('Best Accuracy : '\n",
        "         '{:.4f}\\n{}\\nTest Accuracy : {:.4f}\\n\\n')\n",
        "    output_string = s.format(\n",
        "        grid_result.best_score_,\n",
        "        grid_result.best_params_,\n",
        "        test_accuracy)\n",
        "    print(output_string)\n",
        "    f.write(output_string)  \n",
        "print('Done')"
      ],
      "execution_count": 54,
      "outputs": [
        {
          "output_type": "stream",
          "text": [
            "Fitting 4 folds for each of 3 candidates, totalling 12 fits\n"
          ],
          "name": "stdout"
        },
        {
          "output_type": "stream",
          "text": [
            "/usr/local/lib/python3.7/dist-packages/sklearn/model_selection/_search.py:281: UserWarning: The total space of parameters 3 is smaller than n_iter=5. Running 3 iterations. For exhaustive searches, use GridSearchCV.\n",
            "  % (grid_size, self.n_iter, grid_size), UserWarning)\n",
            "[Parallel(n_jobs=2)]: Using backend LokyBackend with 2 concurrent workers.\n",
            "[Parallel(n_jobs=2)]: Done  12 out of  12 | elapsed: 13.8min finished\n"
          ],
          "name": "stderr"
        },
        {
          "output_type": "stream",
          "text": [
            "Best Accuracy : 0.4564\n",
            "{'vocab_size': 10000, 'maxlen': 100, 'embedding_dim': 50, 'dropout': 0.1, 'dense_size': 50}\n",
            "Test Accuracy : 0.4662\n",
            "\n",
            "\n",
            "Done\n"
          ],
          "name": "stdout"
        }
      ]
    }
  ]
}